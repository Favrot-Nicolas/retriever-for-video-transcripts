{
 "cells": [
  {
   "cell_type": "code",
   "execution_count": 29,
   "id": "c23bd194",
   "metadata": {},
   "outputs": [],
   "source": [
    "import os\n",
    "from urllib.request import urlretrieve\n",
    "import numpy as np\n",
    "from langchain_community.embeddings import HuggingFaceBgeEmbeddings\n",
    "from langchain_community.llms import HuggingFacePipeline\n",
    "from langchain_community.document_loaders import PyPDFLoader\n",
    "from langchain_community.document_loaders import PyPDFDirectoryLoader\n",
    "from langchain.text_splitter import RecursiveCharacterTextSplitter\n",
    "from langchain_community.vectorstores import FAISS\n",
    "from langchain.chains import RetrievalQA\n",
    "from langchain.prompts import PromptTemplate"
   ]
  },
  {
   "cell_type": "code",
   "execution_count": 32,
   "id": "5fbf5071",
   "metadata": {},
   "outputs": [
    {
     "data": {
      "text/plain": [
       "\"# tactiq.io free youtube transcript\\n# No title found\\n# https://www.youtube.com/watch/1GKzqxKwBK0\\n\\n00:00:00.200 nous sommes le 27 mars 1796 à nice pendant la révolution française dans les rangs de l'armée républicaine\\n00:00:06.859 le bruit court qu'un nouveau général est sur le point de prendre ses quartiers il se dit que ce général et jeunes qu'il\\n00:00:13.099 est inexpérimenté mais il se dit aussi qu'il est plein de rêves et plein d'ambition mais pourra-t-il seulement\\n00:00:18.260 redonné courage aux troupes pourra-t-il redonner confiance et fierté à ces soldats qui au premier jour du\\n00:00:23.450 printemps 1796 sont démoralisés sous-équipés mal payés et en proie à la\\n00:00:29.030 mutinerie comment pourra-t-il lui du haut de ses 26 ans mené une campagne militaire dans\\n00:00:34.730 ces conditions et voilà que soudain le jeune homme prend la parole et s'adresse à l'armée soldats vous êtes nuls vous\\n00:00:41.630 êtes mal nourris le gouvernement vous dois beaucoup il ne peut rien vous donner mes mois napoléon bonaparte\\n00:00:47.510 je veux vous conduire dans les plaines les plus fertiles du monde et ses plaines ses plaines si fertile\\n00:00:53.180 ce sont celles de l'italie un pays où les peuples et les villes ne connaissent pas selon le général la fin ou la pauvreté mais pourra-t-il\\n00:01:00.260 seulement tenir parole bataille de france saison 2 l'épopée de napoléon bonaparte dans cette vidéo nous\\n00:01:06.259 tenterons d'analyser les stratégies et les tactiques utilisées par l'armée française en italie afin de comprendre\\n00:01:11.299 la façon dont nos conflits a contribué déjà à l'inévitable ascension de plus jeune général de la révolution un\\n00:01:17.030 conflit qui fera de lui le champion de la république\\n00:01:24.610 [Musique]\\n00:01:32.050 [Musique] avant de commencer ce nouvel épisode il peut être utile de rappeler la situation\\n00:01:38.700 géostratégique politique et économique dans laquelle se trouve alors la france à cette période depuis les événements qui ont suivi\\n00:01:45.300 l'année 1789 le pays est en proie aux divisions les plus profondes la situation interne est\\n00:01:50.790 catastrophique émeutes rébellions coups d'état et tout cela sous la pression d'une crise alimentaire sans précédent\\n00:01:56.370 dans le royaume puis dans la république de plus la situation extérieure inquiète au plus\\n00:02:01.620 haut point en 1793 les puissances européennes forment la première coalition et attaque\\n00:02:06.780 la france sur tous les fronts partout à londres à rome ou à moscou on se dit que la révolution française est sur le point\\n00:02:12.810 de périr et de façon surprenante ce ne sont pas les européens qui prennent le dessus sur leurs opposants\\n00:02:17.870 l'armée française se métamorphose et met en place des tactiques nouvelle qui accompagnée d'une mobilisation sans\\n00:02:23.760 précédent vont se révéler crucial dans les futurs succès des révolutionnaires l'une de ses nombreuses innovations est\\n00:02:29.670 celle qui a le plus d'importance pour comprendre les succès de bonaparte en italie prend le nom de système divisionnaire c'est une façon de\\n00:02:36.420 structurer et d'organiser les troupes en plusieurs divisions autonomes cette méthode s'oppose alors à la doctrine militaire de l'époque\\n00:02:42.239 privilégiant une formation compacte et qui se déplacent en masse comme un rouleau compresseur sur le terrain le\\n00:02:48.570 système classique européen a pour objectif principal d'assaillir et de s'emparer de forteresse l'armée pose le\\n00:02:54.180 siège sur une ville puis passe à la suivante une fois la victoire acquise les mouvements sont donc lent très lent et\\n00:02:59.880 très prudent car il faut transporter la nourriture l'artillerie et tous ses bagages logistique qui sont traînés à l'arrière\\n00:03:05.280 des troupes côté français en revanche le modèle est complètement différent on répartit\\n00:03:10.620 l'armée en plusieurs divisions on quadrille une large partie du terrain on cherche l'adversaire était qu'une division le trouve alors les autres\\n00:03:17.190 convergent vers cette position afin d'engager le combat cette tactique requiert néanmoins une formidable vitesse de déplacement et une\\n00:03:23.940 excellente coordination entre les généraux il faut donc de transporter ni vivres ni coffre d'argent ou très peu et\\n00:03:30.000 se servir en pays conquis bref la guerre entre l'europe et la france révolutionnaire est donc une rencontre entre deux logiques militaire\\n00:03:36.440 côté européen la guerre de siège planté prudente côté français la guerre\\n00:03:41.989 de mouvement rapide agressive bien évidemment cette représentation est\\n00:03:47.030 un modèle quelque peu simplifié et elle nous permet de comprendre dans quelle logique militaire s'inscrit alors napoléon en ce mois d'avril à 2796\\n00:03:53.930 lorsqu'il reçoit le commandement de l'armée d'italie il trouve là-bas soldats paré pour une campagne éclair tandis que ses opposants\\n00:04:00.500 eux sont plus nombreux mais également plus lent il ne reste plus qu'aux jeunes général corse de seulement 26 ans de\\n00:04:07.220 trouver la bonne formule pour percer le front italien chose que ses prédécesseurs après deux ans de campagne n'ont pas\\n00:04:12.709 réussi à faire en avril 17 196 la\\n00:04:23.270 situation sur le front italien n'est pas vraiment favorable à bonaparte sur la droite du dispositif coalisés on trouve\\n00:04:29.599 les sardes avec 30000 hommes répartis à mondovi eacce bas sur la gauche on\\n00:04:34.639 trouve le général beaulieu avec trente mille hommes supplémentaires basés à d'ego et à campoli giuly et pour assurer\\n00:04:40.610 la coordination de ce grand ensemble un corps de liaison fort de dix mille hommes se fixe à monter noté quant aux\\n00:04:46.610 français ils sont répartis de la façon suivante une première division à savonner une autre à l'eau à nos une\\n00:04:52.190 troisième entre les deux une quatrième à orméa et pour finir une demi brigade aux aguets du dispositif qui se positionne\\n00:04:58.580 en avant-garde près de voltron numériquement bonaparte est mal en point il ne dispose en effet que de 40 mille\\n00:05:04.880 hommes alors que beaulieu lui en dispose de 70 mille presque 1 contre 2 aussi du\\n00:05:10.580 côté coalisés la tentation est grande de procéder comme celui déclenché une offensive générale sur tous les fronts\\n00:05:16.220 écrasez les français envahir la provence et basta les révolutionnaires n'auront plus qu'à rentrer dans le rang cependant\\n00:05:23.030 si cette stratégie semble convaincre ans à première vue elle n'est pas si facile à réaliser sur le terrain en effet l'italie du nord est une région\\n00:05:30.680 montagneuse une région vallonnée ce qui décourage les mouvements offensifs puisqu'il serait facile pour l'adversaire de se réfugier sur les\\n00:05:37.190 hauteurs en cas d' attaque il faut pour manoeuvrer sur un tel terrain de la vitesse de l'endurance est une\\n00:05:42.650 excellente coordination des troupes parfait pour bonaparte et son système divisionnaire mais un enfer pour\\n00:05:47.840 beaulieu qui ne veut pas risquer un mouvement de masse qui pourrait vite tourner catastrophe ils préfèrent donc attendre\\n00:05:53.340 attendre les renforts afin d'être sûr et certain d'écraser l'ennemi avec la plus grande des facilités mais en attendant\\n00:06:00.660 il est absolument essentiel pour beaulieu de conserver une communication avec gêne c'est le seul port de la\\n00:06:06.240 région en effet qui est capable d'accueillir la flotte anglaise et de plus sa destruction signifierait un\\n00:06:11.250 désastre économique pour la région région ali de la maison d'autriche qu'il s'agit de protéger il ne tolère donc pas ce mouvement\\n00:06:17.700 impromptue cette petite brigade aux avant postes qui semble faire un mouvement vers l'est force est de protéger gêne pour\\n00:06:23.700 maintenir son alliance avec les italiens beaulieu redéploie alors son aile gauche pour couvrir la cité bonaparte de son\\n00:06:30.360 côté est surpris il ne s'attendait pas du tout à une telle réaction soto que celle ci a deux conséquences la\\n00:06:36.210 première c'est que pour défendre au gène beaulieu porte son aile gauche à une grande distance de son centre qui d'un\\n00:06:41.700 coup se retrouvent vulnérable à une attaque la deuxième conséquence c'est que tout à coup bonaparte se retrouvent en\\n00:06:47.580 supériorité numérique sur le centre il n'y a donc pas une seule seconde à perdre c'est l'occasion unique de couper le\\n00:06:53.490 dispositif adverse en deux et aussitôt pensé aussitôt exécuté le général corse ordonne un mouvement sur les dix mille\\n00:06:59.790 hommes du général argenteau réfugiés à monter noté\\n00:07:06.930 convaincu que beaulieu a laissé son centre vulnérable à une attaque bonaparte déclenché l'offensive générale\\n00:07:12.000 sur les troupes du général argenteau comme nous l'avions expliqué en introduction le système divisionnaire\\n00:07:17.520 permet à un petit groupe situées aux avant-postes de se porter à la rencontre de l'ennemi afin de le fixer dans la\\n00:07:23.160 tente de renforts ce jour là le 11 avril c'est le général rampont qui arrive avec sa brigade sur le champ de bataille\\n00:07:29.430 il trouve alors la situation suivante environ 4000 soldats sous les ordres d'argent tout un monde d notés et 6000\\n00:07:35.880 sarda posté plus à l'ouest sous le commandement de vital le français qui n'a que mille soldats à sa disposition\\n00:07:41.009 se garde bien d'attaquer de front il se positionne alors sur une colline bien à l'abri et attend que les\\n00:07:46.500 autrichiens en gage de combats ces derniers ne se font pas prier et montent à l'assaut des hauteurs rampe on envoie\\n00:07:52.169 alors un message à bonaparte il faut faire vite il a trouvé l'adversaire mais il a besoin de renfort urgemment la pole\\n00:07:58.500 et on se met alors en mouvement mais ces troupes sont à une journée de marche de champ de bataille rampon n'a donc pas le choix et doit tenir ses\\n00:08:04.680 positions à 1 contre trois avec des munitions limitées et des hommes épuisés le général fait ce qu'il peut il\\n00:08:11.370 harangue il enflamme il électrise ces hommes qui tirent sans discontinuer depuis le flanc de la colline les autrichiens e s'obstine malgré leurs\\n00:08:19.199 pertes lourdes et continuent d'attaquer mais rien n'y fait à la tombée de la nuit et combats doivent cesser et rend\\n00:08:24.900 compte y a toujours sa position quel soulagement pour bonaparte qui arrive très tôt sur les lieux le lendemain soit le 12 avril avec des\\n00:08:31.470 divisions de renforts il ordonne alors le plan suivant la harpe engagera les autrichiens de front tandis que masséna\\n00:08:37.500 le contournera par le flanc gauche quant à ogero il devra manoeuvrer au devant des sardes pour les empêcher de\\n00:08:42.510 venir au secours de leurs alliés des généraux s'exécute et comme si la chance était de leur côté argenteau au lieu de\\n00:08:48.540 battre en retraite déclencher un nouvel assaut sur la colline il se dit que s'il s'empare de cette position il aura des\\n00:08:54.120 chances de victoire mais c'est une erreur rampon et l'arp tiennent le choc il laisse le temps à masséna de déborder\\n00:08:59.880 des autrichiens par la gauche s'en est rapidement fini de la bataille argenteau doit se replier et ce faisant les sardes\\n00:09:05.730 font de même cette première victoire créer une brèche dans le dispositif coalisés il ne faut pas s'arrêter en si\\n00:09:11.730 bon chemin la suite des opérations pour bonaparte consiste alors à empêcher des alliés en retraite de faire jonction augereau doit\\n00:09:18.930 donc maintenir la pression sur les sardes tandis que le torse avec masséna et l'arbre poursuivre les autrichiens il\\n00:09:24.750 s'en suit deux affrontements le premier le 14 et 15 avril à d'ego ou argenteau encore trop désorganisée père\\n00:09:30.780 le tiers de ses hommes le second à chiba ou les italiens doivent reculer en catastrophe\\n00:09:35.840 apprenant tous ces désastres vaut lui ordonne un redéploiement de ses troupes vers à couy et leur alba il laisse alors\\n00:09:42.210 ses alliés piémontais seul face au danger et bonaparte en profite il demande à la division de serrurier\\n00:09:47.280 basée à ormes et de remonter droit vers le nord tandis que lui il fonce avec toutes ses forces disponibles pour\\n00:09:53.400 engager le général colis qui se réfugie à mondovi le général piémontais sans que\\n00:09:59.670 la situation tourne à la catastrophe mais tout n'est pas perdu pour autant le terrain sur lequel ils se trouvent est\\n00:10:04.800 fortement vallonné et facilite les positions défensives il ordonne alors au général du cha de\\n00:10:10.020 maintenir une position sur san michele situé sur les hauteurs et en amont d'une rivière quant à lui il fortifie ses défenses au\\n00:10:16.500 village de mondovi mais c'est inutile les français sont trop rapides et le 20 avril ils attaquent le village de saint\\n00:10:22.260 michel sur tous les fronts serrurier arrive par le sud aux jo depuis l'est et massena lui\\n00:10:27.660 depuis le nord coli doit rappeler ses troupes et pour éviter la catastrophe il tente de former\\n00:10:32.970 une ligne de défense organisé comme ceux ci de l'artillerie positionner sur les hauteurs de mondovi est protégé par un\\n00:10:39.060 cours d'eau qui doit couvrir l'infanterie disposés en ligne de bataille face aux français bonaparte en\\n00:10:44.520 réaction ordonna serrurier d'attaquer les sardes sur la route de vico forte et pour ce faire il utilise un système\\n00:10:50.520 tactique qu'on appelle alors la colonne d'attac ils disposent ses troupes de la façon suivante trois bataillons marchand en\\n00:10:56.970 colonne droits sur l'ennemi avec à l'avant des unités d'infanterie légère des tirailleurs qui une fois apporté des\\n00:11:03.810 italiens déclenché un feu nourri aussi longtemps que possible pour désorganiser les rangs adverses\\n00:11:09.270 ce faisant il laisse le temps aux trois colonnes de former une ligne de combat alors qu'en face l'adversaire se remet à\\n00:11:14.790 peine de l'engagement précédent cette stratégie combinée à la vitesse de déplacement des divisions françaises\\n00:11:19.920 permet de rompre les lignes compactes du camp adverse serrurier perse donc le front italien\\n00:11:25.269 avec au forte oli ne peut plus tenir il doit battre en retraite et le 26 avril au grand dam de beaulieu et des\\n00:11:31.420 autrichiens il doit demander la paix\\n00:11:40.030 le 28 avril lessard de signer un traité de paix qui garantit à bonaparte la libre circulation de ses troupes dans le\\n00:11:45.670 piémont en moins d'un mois le corse des faits presque le quart des forces coalisées sur le front italien mais beaulieu ne s'est pas laissé\\n00:11:52.270 surprendre du moins pas deux fois il s'est replié avec son armée derrière les rives du pô et prépare déjà une contre attaque\\n00:11:58.690 il est d'un point de vue numérique toujours en supériorité il dispose en effet de 50 à 60 mille\\n00:12:04.990 hommes valides tandis que bonaparte reste lui avec environ 35 à 40 mille soldats conscient qu'il doit surprendre\\n00:12:11.170 l'adversaire pour le vaincre il décide de divulguer aux piémontais de façon délibérée les détails de son plan de campagne il\\n00:12:18.010 leur fait savoir qu'il souhaite attaquer les autrichiens à valenza et ce faisant ils leur somme de tenir cette\\n00:12:23.290 information secrète et de ne surtout pas la communiquer aux générale beaulieu et bien évidemment les italiens ne tiennent\\n00:12:29.560 pas parole il s'empresse de tenir leurs alliés de la veille au courant des plans français et c'est ainsi peu prend forme le piège\\n00:12:35.650 de bonaparte les autrichiens sont convaincus que leurs adversaires vont attaquer valenza il se fixe donc sur ce point de passage\\n00:12:41.800 et napoléon lui a jamais eu l'intention de traverser le pot à cet endroit en réalité il s'élance tout droit vers\\n00:12:48.430 l'est pour passer le fleuve à plaisance situé 80 km plus loin beaulieu se rend compte qu'il a été dupé\\n00:12:53.800 les deux armées font alors la course mais les français avec leur système divisionnaire sont plus rapides à le 7\\n00:12:59.980 mai soit un peu plus d'une semaine après avoir quitté le piémont bonaparte franchi le pot du jour au lendemain\\n00:13:05.590 c'est toute la lombardie qui s'ouvre à napoléon est là pour beaulieu s'est littéralement la catastrophe\\n00:13:11.320 en effet l'ennemi se trouve non seulement sur ses arrières mais surtout ce dernier pourrait attaquer à tout moment ces lignes de\\n00:13:17.890 ravitaillement et d'approvisionnement il faut donc immédiatement se replier plus à l'est détruire les ponts de la rivière ada et\\n00:13:24.550 revenir avec des renforts napoléon dit lise alors son armée en deux une partie marche sur milan l'autre\\n00:13:31.300 c'est lance corps et âme à la poursuite des autrichiens le corse veut absolument éviter la destruction des ponts s'il\\n00:13:37.570 échoue il ne pourra plus continuer l'offensive mais beaulieu pour une fois pas trop vite il parvient à s'échapper\\n00:13:43.120 avec toute son armée tout sauf son arrière-garde qui traîne péniblement derrière les français\\n00:13:49.319 accélère alors le mouvement et rattrapent leurs opposants près de l'audi le 10 mai 1996\\n00:13:54.769 ce jour là peu n'a pas réussi alors l'exploit d'empêcher les autrichiens de brûler le pont qui dépend en fait de\\n00:14:00.810 bois il avait placé ses canons sur des points stratégiques afin de pilonner la rive droite de la dda et créer ainsi une\\n00:14:06.449 sorte de zone tampon la qualité des artistes français fait le reste le pont est sauvé et beaulieu en plus de\\n00:14:12.779 perdre bêtement la lombardie en seulement deux semaines échoue à sécuriser une ligne de défense pour défendre le trentin et la vénétie\\n00:14:19.430 bref en deux mois deux mois le jeune général corse de 26 ans qu'on tire la\\n00:14:24.660 moitié de l'italie du nord et prépare déjà comme si plus rien ne pouvait l'arrêter une nouvelle offensive plus loin vers\\n00:14:30.810 l'est\\n00:14:39.510 nous sommes dans un camp d'entraînement français près de l'audi en 1796 dans son\\n00:14:44.880 quartier général bonaparte regarde les flammes danser dans sa cheminée quel chemin parcouru depuis sa\\n00:14:50.100 nomination en italie et tout est passé si vite tellement vite pourtant rien n'était gagné au départ\\n00:14:55.590 son armée était dans un état catastrophique la révolution française avait ruiné l'économie du pays les coffres de l'état\\n00:15:02.070 étaient vides et la famine menace et la république résultat ces hommes étaient mal nourris\\n00:15:07.200 mal équipés certains étaient même plus payés depuis des mois beaucoup sont morts de maladie le typhus la dysenterie\\n00:15:13.680 même napoléon n'avait pas l'air en bonne santé il toussait sans discontinuer il faut dire que à l'époque les généraux\\n00:15:20.460 non plus n'était pas sûr de manger à leur faim ou de recevoir des soins on comprend dans ce contexte que les français n'avaient plus qu'une seule\\n00:15:26.400 envie forcer le passage en italie plier ces contrées si riche et si fertile et s'offrir des festins en se servant dans\\n00:15:32.700 les greniers des villages conquis et voilà que deux mois plus tard ce rêve devient réalité le front est\\n00:15:38.310 complètement percer une campagne éclair signé napoléon bonaparte qui ne s'arrête jamais d'attaqué jamais d'harceler\\n00:15:43.920 jamais d'engager quel succès mais quelle horreur aussi pour ces italiens qui voient d'un seul coup des français\\n00:15:49.590 affamés sur rue et dans leurs maisons pour voler leur pain leurs bijoux leurs femmes les autrichiens peuvent-ils\\n00:15:55.920 laisser la situation telle quelle bien sûr que nous viennent et la protectrice déclaré de l'italie elle n'a pas le\\n00:16:01.530 droit de laisser ses alliés à ce triste sort elle envoie donc une nouvelle armée soixante mille hommes\\n00:16:06.990 c'est deux fois plus que l'armée de bonaparte qui est réduite à 35 mille soldats car il faut placer des garnisons à milan et dans les villes récemment\\n00:16:13.290 conquise sauf que vu ma soeur peut être pressé par la maison d'autriche prend un raccourci dans les montagnes du tyrol\\n00:16:19.430 conséquence ils avancent plus vite certes mais il avance par un défilé et 3 dont le débouché est obstruée par le lac\\n00:16:26.010 de garde et la distance entre le lac des montagnes est très courte une fine bande de terre une route étroite par laquelle\\n00:16:31.830 ne serait transiter une armée de 60 mille hommes pire bonaparte pourrait très bien l'attendre à la sortie du défilé et le\\n00:16:38.329 pylône et avec ses canons placés sur des hauteurs burmester ne peut pas prendre un tel risque il divise donc c'est trop bon de lui ne\\n00:16:44.930 coupera le défilé par la droite l'autre par la gauche c'était sûrement la bonne chose à faire mais le général français fait preuve\\n00:16:51.050 d'habileté il accepte d'être pris en tenaille il attend que la première armée autrichienne sortent du tyrol fonce\\n00:16:56.930 droit sur elle et l'a détruit à lonato le 3 et 4 août 1996 wenger n'en croit\\n00:17:02.629 pas ses yeux il s'éprend d'une colère mais il ne perd pas espoir pour autant car il reste environ 25000 homme a opposé au français\\n00:17:08.869 qui en compte 35 milles il suffit de trouver une position défensive de se mettre en sécurité et\\n00:17:14.959 d'attendre des renforts depuis l'autriche ainsi deux jours après le désastre de lonato les autrichiens se\\n00:17:20.689 prépare donc à un nouvel assaut français à quelques kilomètres d'une pile qu'on appelle alors castiglioni\\n00:17:36.010 nous sommes le 5 août 17 196 à castiglione et en italie du nord après la défaite des autrichiens à\\n00:17:42.430 lonato ces derniers n'ont plus d'autre choix que de se réfugier sur une position défensive il se place alors sur des hauteurs entre\\n00:17:48.520 mes deux relais et solférino si bien que l' avantage numérique de bonaparte qui dispose de 35 mille hommes contre 25,2\\n00:17:54.280 côté adverse pourrait bien ne pas suffire le général corps se met alors en place le plan suivant sainte et une attaque\\n00:18:00.220 sur le centre termine d'être écrasés sous le feu ennemi battre en retraite puisse arrêter tenir le choc\\n00:18:05.650 afin de donner le temps à serrurier en embuscade de monter à l'assaut de violence heures la clé de la victoire\\n00:18:10.900 c'est donc l'exacte coordination des mouvements entre le gros des troupes françaises et la division serrures et le\\n00:18:16.780 sort des donc jeté vers 5 heures du matin l'assaut commence sur le centre l'armée d'italie se ruent sur les flancs\\n00:18:22.180 de la colline dont les défenseurs sont bien décidés à ne céder à aucune parcelle de terrain aux assaillants du jour leurs volets sont terribles pour\\n00:18:28.540 les soldats de bonaparte qui tombent les uns après les autres la position de würm soeur sur un plateau augmente considérablement sa puissance\\n00:18:34.900 de feu c'est un véritable carnage une boucherie et pour y mettre fin on se prépare côté français et\\n00:18:40.780 conformément au plan de l'état major a entamé un mouvement de recul pour attirer les autrichiens dans le piège sauf qu'à cette heure du matin alors que\\n00:18:47.680 le gros de l'armée n'a pas encore pu les voilà que serrurier sort de sa position et fonce droit sur l'ennemi mais il est\\n00:18:53.890 beaucoup trop tôt c'est beaucoup trop prématuré du lanceur est encore sur le plateau il n'a pas bougé il est toujours bien installé sur les\\n00:18:59.980 hauteurs serrurier s'est trompé le piège on ne peut pas fonctionner c'est un raté pour napoléon nos très chers redéploie\\n00:19:05.650 alors ces troubles sont ses arrières et pour napoléon la bataille semble presque perdu tout petits le faire alors déclenché un\\n00:19:11.740 assaut général au prix de la vie de milliers de soldats c'est impossible l'armée d'italie ne peut pas renouveler ses effectifs aussi\\n00:19:17.830 facilement que l'autriche il faut trouver quelque chose et justement en observant les troupes de wenger se redéployer pour contenir\\n00:19:23.950 serrurier bonaparte remarque que son opposant dégarnissent défense sur le monde et logano s'être ligne domine le\\n00:19:30.040 champ de bataille et si les français s'en empare alors ils auront des chances de victoire s'est décidée il faut tenter le coup et on le tente en\\n00:19:36.610 deux étapes d'abord un feu d'artillerie une tempête de boulettes d'obus et de tout ce qu'on peut trouver pour faire\\n00:19:41.809 céder les défenses adverses ensuite un assaut frontal avec des milliers d'hommes pour gravir les pentes\\n00:19:47.179 de la colline et pauvre défenseur sont non seulement taillés en pièces par les canons français mais également par les\\n00:19:52.580 tirs de fusil des fantassins ennemis dépassé par le nombre ils doivent se replier vers neuf heures lui ne\\n00:19:58.610 s'attendait pas à ça loin de là t bone appartient désormais la colline qui coupe son armée en deux les deux ailes\\n00:20:04.010 autrichiens sont donc vulnérables et pour éviter le pire il sonne la retraite avant la tombée du jour les français peuvent crier victoire la\\n00:20:11.330 capacité d'adaptation de leur général qui a transformé une bourde de serrurier en une opportunité de remporter le\\n00:20:16.610 conflit s'est avérée décisive en moins de cinq mois le jeune général a battu\\n00:20:21.679 deux armées autrichiennes coup sur coup il peut donc continuer sa route posez le siège sur la forteresse de\\n00:20:26.690 monthoux et attendre patiemment qu'elle ne cède sous la pression à vienne en revanche la nouvelle provoque une\\n00:20:32.720 panique générale comment une armée de 60000 sommes peut être mise en déroute par 35 mille soldats emmenés par un général de 26 ans et tout\\n00:20:39.770 cela en moins d'un mois comment est ce même concevable il faut immédiatement envoyé le 3ème armée avec\\n00:20:45.230 à sa tête la fine fleur des officiers il faut coûte que coûte à n'importe quel prix enrayer la marche de ce bonaparte\\n00:20:51.260 ou c'est toute l'autriche toute l'autriche qui se retrouvera me lasser d'une invasion\\n00:21:02.410 nous sommes de retour dans un camp d'entraînement français cette fois si près de mantoue à une cinquantaine de\\n00:21:07.880 kilomètres à l'ouest de venise plus personne ici désormais le discute le talent du jeune général au contraire lui\\n00:21:15.020 qui en arrivant ici quelques mois plus tôt et est regardée avec mépris pour son jeune âge il est acclamé par ses hommes\\n00:21:20.720 adoré par ses pairs craint par ses adversaires sans le savoir bonaparte commence à écrire sa légende\\n00:21:26.720 il ne se doute pas que quelques décennies plus tard henri beyle stendhal lui consacrera les premières pages de\\n00:21:31.940 son roman la chartreuse de parme il écrira que lors de son entrée à milan en mai 17 196 napoléon enseigné à tout\\n00:21:39.770 un peuple que césar et alexandre avait un successeur mais pourquoi tant d'admiration pour un si jeune général\\n00:21:46.120 peut-être parce qu'il a réussi l'exploit de débloquer un front avec moitié moins d'hommes moitié moins d'équipements et\\n00:21:52.070 moitié moins d'argent mais on l'admiré également car en plus d'être un avis le militaire s'est aussi est déjà un\\n00:21:57.740 diplomate talentueux dans le mille ans décrit par stendhal les habitants n'aiment pas seulement le conquérant et\\n00:22:03.890 les accueillent à bras ouverts la république française ces idées révolutionnaires de liberté d'égalité\\n00:22:09.140 le romancier écrit ces mots napoléon bonaparte jointe aux lauriers de mars l'olivier de la civilisation à ses\\n00:22:15.710 victoires éclatantes il associe la fin de l'ordre ancien et l'avènement d'un monde nouveau celui de\\n00:22:20.930 la révolution certes stendhal ne mentionne pas ou pas assez que bonaparte reçoit également l'ordre de piller la\\n00:22:27.290 région car la france a besoin d'argent elle est assiégée elle est en guerre lui faut vite trouver des liquidités cela\\n00:22:33.860 est littérature a choisi de l'oublier mais à l'époque c'était une nécessité de premier ordre il fallait bien payer les soldats\\n00:22:39.620 cependant comment on pouvait faire à bonaparte pour distribuer la solde le blocus maritime anglais l'invasion\\n00:22:45.200 allemande les guerres de vendée avec tous ces déséquilibres la france n'avait ni or ni argent alors on se servait dans le pays\\n00:22:51.710 conquis et les généraux laisser faire eux ils étaient davantage concernés par la suite de la campagne gras victoire\\n00:22:57.890 était loin d'être acquise arrivé à l'automne à 1796 en effet l'autriche refuse toujours la défaite\\n00:23:03.290 elle refuse d'abandonner l'italie alors elle contre attaque encore une fois un certain général alvin six\\n00:23:08.840 marches avec quarante mille hommes pour libérer mantoue napoléon qui ne peut compter alors que sur vingt-cinq à\\n00:23:14.359 trente mille soldats ordonne à serrurier de continuer le siège tandis que lui se porte à la rencontre des autrichiens\\n00:23:20.049 mais voilà que les mauvaises nouvelles s'accumulent son avant-garde s'est fait bousculer et s'est réfugié près de\\n00:23:25.340 vérone quant au siège de mantoue il est au plus mal car on raconte que les assiégés sont sur le point de briser\\n00:23:30.619 l'encerclement fall apart se retrouve coincé et sa position est extrêmement périlleuse que faire alors battre en\\n00:23:37.129 retraite abandonner la région rappeler toutes les garnisons d'italie pour constituer un front uni contre albi n'zi peut-être ou\\n00:23:43.789 peut-être pas car si les français parviennent à contourner les autrichiens et a débarqué subitement par le sud-est\\n00:23:48.889 il pourrait menacer les lignes d'approvisionnement du général al bundy voilà un plan audacieux un plan\\n00:23:54.529 bonaparte est serait on tenté de dire parce qu'il est extrêmement dangereux alvin ci pourrait à tout moment faire\\n00:23:59.779 reculer son aile gauche et recevoir des renforts depuis l'autriche mais la surprise pente bonaparte peut faire plier l'adversaire\\n00:24:05.769 alors coup de poker ou coup de génie les analystes n'ont pas de vision unanimement mais ce qui est certain\\n00:24:11.509 c'est que napoléon s'apprête sur les berges du fleuve adige à construire un peu plus sa légende en ce 15 novembre\\n00:24:17.229 1796 à l'aube d'une nouvelle bataille la bataille du pont d'arcole\\n00:24:31.000 nous sommes le 15 novembre 1796 dans la province de mantoue près d'un village nommé arcolle ce jour-là napoléon et ses\\n00:24:38.470 vingt mille hommes débarquent subitement sur la gauche du général albine si cette dernière tient un pont qui protège les\\n00:24:43.810 lignes de ravitaillement de l'armée d'autriche s'il tombe alors les français pourraient contraindre leurs adversaires à une\\n00:24:49.000 retraite anticipée mais pour réussir il faut prendre arcolle avant l'arrivée du gros des forces des autrichiennes il n'est donc\\n00:24:55.420 pas une seule minute à perdre au jour où s'élance alors sur le pont car départ quelques unités et par quelques canons\\n00:25:01.090 mais c'est un massacre les français tombent comme des mouches li trotsky qui garde le village fait\\n00:25:06.490 cracher une pluie de feu de ballet de mitraille sur les assaillants certains officiers prennent leur courage à deux mains comme le général lane qui\\n00:25:13.390 s'élance corps et âme vers l'autre rive malgré la marée de plomb qui s'abat sur lui même bonaparte ici mais\\n00:25:18.790 personnellement et avec le même résultat les volets de mousquets autrichiens sont infranchissables\\n00:25:24.220 les canons tirent à bout portant la fumée fait qu'on y voit plus rien les hommes ne peuvent plus il faut reculer\\n00:25:29.260 reculé en désordre et soigner les centaines de blessés qui s'amoncellent sur les berges la traversée du pont est un véritable\\n00:25:35.890 carnage et puis tous ces hommes ils sont tombés pour presque rien car la cavalerie trouve finalement un gain plus\\n00:25:41.020 loin vers le nord et charge les défenseurs d'arcole afin de les sabres et au fil de l'épée et c'est trop tard\\n00:25:46.210 car alvin si elle vend du piège de bonaparte ils débarquent sur les lieux dans l'après midi avec le gros de ses troupes\\n00:25:51.760 sentant la catastrophe frappe et à ses portes les visas lors son armée en deux l'une pour défendre la rive droite de\\n00:25:57.550 l'album l'autre pour dégager la rive gauche les français sont désormais en infériorité numérique ils ont perdu trop\\n00:26:03.850 de temps au deuxième jour de la bataille ils doivent donc revoir leur plan et voici ce qu'il décide les autrichiens\\n00:26:09.580 sont certes plus nombreux les environs d'arcole son marécageux parsemé de points d'eau ce qui facilite une\\n00:26:14.890 attitude défensive masséna prendre position dans les marais tandis qu'au japon lui défend le pont d'arcole la deuxième\\n00:26:22.180 journée les crânes échanges de feu d'affrontements à la baïonnette aucun camp ne parvient à prendre le dessus sauf que le temps lui joue contre les\\n00:26:28.850 français en effet à tout moment le siège de mantoue pourrait rompre ce qui signifierait une armée de secours\\n00:26:34.400 pourrait venir du sud afin d'épauler les autrichiens l'armée de bonaparte se retrouver encerclés pote absolument\\n00:26:40.670 tenter quelque chose et le faire immédiatement aussi au troisième jour de la bataille napoléon décide que masséna côté marais\\n00:26:47.900 devra feindre un mouvement de retrait vers le sud afin d'attirer les autrichiens dans une embuscade une fois à portée de fusil les\\n00:26:54.950 tirailleurs en bus qui surgiront comme un seul homme depuis détail et anéantiront l'adversaire côté argol il\\n00:27:01.100 faut tenter le tout pour le tout et avec les moyens du bord on construit alors un pont improvisé en pleine nuit un pont\\n00:27:06.920 provisoire mais suffisant pour y faire passer une petite unité de cavalerie qui doit se porter à l'arrière des\\n00:27:12.230 autrichiens et faire le maximum de bruit il faut persuader l'adversaire jeunes armés de secours aidant approche ce\\n00:27:18.440 faisant bonaparte espère calvin si des gars dira le front d'arcole afin de pouvoir enfoncer sa position dans un\\n00:27:23.960 nouvel assaut et au lever du jour l'audacieux plan du général et exécutés il fonctionne à merveille\\n00:27:29.540 côté marais l'embuscade des tirailleurs on lève pas moins de 500 au mal d'une scie en moins d'une heure et de l'autre\\n00:27:35.330 côté les cavaliers du pleurs opposants qui paniquent à l'idée de voir débarquer des renforts qui en réalité n'existe pas\\n00:27:41.440 le général autrichien voyons la situation lui échappe et décide de se replier il perd près de 6000 hommes en trois\\n00:27:47.960 jours contre 5000 côté français donc une victoire en demi-teinte pour napoléon même s'il reste maître du terrain et\\n00:27:54.440 quoi qu'il en soit son opposant n'est pas détruit loin de là et l'autrichien va revenir il va revenir encore plus\\n00:28:00.110 fort et lorsqu'il reviendra alors il se décidera de qui de l'autriche de la france sera la vraie maîtresse de\\n00:28:06.170 l'italie du nord\\n00:28:15.250 nous sommes à paris en janvier 1790 est près du siège du gouvernement au jardin du luxembourg entre les\\n00:28:22.150 membres des institutions politiques on ne parle plus que d'un seul sujet peut d'un seul homme bonaparte jeune\\n00:28:27.730 général 27 en corse triomphant celui qui contre toute attente à débloquer en à\\n00:28:33.820 peine un an un fonds qui étaient bloqués depuis plusieurs années et de plus le gouvernement était loin de lui avoir\\n00:28:39.190 fourni la fine fleur de ses soldats et de ses officiers la priorité de l'armée à l'époque c'était le front allemand on\\n00:28:45.760 y avait place et 150 mille hommes contre 35 milles en italie et alors que la campagne du rhin s'empêtrait dans le\\n00:28:51.010 statu quo voilà qu'en italie la situation se débloque miraculeusement au point que viennent désormais se retrouve\\n00:28:56.740 dans une situation plus que délicate de quel côté des alpes doit-elle envoyer des renforts au sud au nord\\n00:29:02.410 les deux alors bien évidemment à paris on en profite mais on considère toujours\\n00:29:07.450 le front allemand comme la première des priorités le gouvernement on en voit donc que 7000 hommes supplémentaires à\\n00:29:12.460 bonaparte c'est peu ce n'est pas assez mais à l'époque on ignore encore si c'est le talent ou la chance qui a permis au\\n00:29:18.370 jeune général corse d'enfoncer des autrichiens par contre il est un homme qui est sûr et certain de pouvoir répondre à cette question pour alvin si\\n00:29:25.390 général aussi craint que respecter la peau lyon n'a rien à gênés tout au contraire il est certes audacieux mais\\n00:29:31.360 c'est un chanceux il a joué avec le feu en débarquant subitement derrière céline lors de la bataille du pont d'arcole lui\\n00:29:37.510 du haut de ses 61 ans il déclare qu'il n'a pas perdu il s'est replié rien de plus pour revenir encore plus\\n00:29:43.660 fort et désormais il sait comment battre bonaparte l'objectif principal de la maison\\n00:29:49.240 d'autriche étant de soulager le siège de mantoue alvin ci va provoquer napoléon à son propre jeu il sait que cette imprudence général\\n00:29:55.960 choisit toujours la tacc même lorsqu'il s'agit de se défendre alors il lui suffit avec ses quarante mille hommes de\\n00:30:02.020 fixer les français sur un point donné suffisamment longtemps afin de permettre la garnison de mantoue forte de 24 mille\\n00:30:07.990 hommes de se défaire du siège de serrurier puis d'attaquer bonaparte sur ses arrières de l'autre côté des lignes l'état-major\\n00:30:14.980 de napoléon discutent de la stratégie à suivre et une question revient très vite dans les débats quelle sera la route choisie\\n00:30:21.220 par alvin site pour délivrer mantoue quel chemin va-t-il prendre at-il débarqué depuis la vénétie ce serait le\\n00:30:27.640 chemin le plus court ou va-t-il débarqué depuis le tyrol personne ne peut répondre à la question personne et c'est donc pour parer à\\n00:30:34.270 toute éventualité que napoléon met en place un dispositif quelque peu singulier il répartit son armée en\\n00:30:39.730 quatre divisions la première prend pied à rivoli la deuxième à vérone la troisième à l'hexagone tandis que la dernière elle\\n00:30:46.570 reste avant tout lui même en se place au centre du dispositif que l'on nomme en sciences militaires quadrilatère\\n00:30:52.720 stratégique il a pour objectif de contraindre l'adversaire à livrer bataille en un lieu très éloigné de l'endroit que l'on\\n00:30:58.690 souhaite défendre ici le siège de mantoue si alvin s'ils débarquent par l'ouest alors les divisions de vont se ruer sur\\n00:31:05.169 cette position pour venir aider leurs confrères s'ils débarquent par le sud même chose les forces françaises devront converger\\n00:31:11.890 pour livrer bataille mais finalement le 12 janvier 1797\\n00:31:16.929 ce n'est ni à l'ouest ni au sud que les autrichiens porte l'offensive alvin six traversées les alpes et\\n00:31:22.270 attaque joubert dans les environs de rivoli général français envoie alors un message à bonaparte il tiendra ses positions le plus\\n00:31:28.720 longtemps possible jusqu'à l'arrivée des renforts mais ces derniers doivent se porter à son secours de toute urgence\\n00:31:43.370 nous sommes le 12 janvier 10 797 en italie du nord près d'un village appelé rivoli conformément au plan du général\\n00:31:50.690 bonaparte la division joubert doit faire face seule à toute une armée autrichienne dans la tente de renforts\\n00:31:56.150 français qui se met en marche depuis vérone en ce premier jour de l'affrontement aline ci dispose d'environ 30000 hommes\\n00:32:01.970 joubert lui peut compter sur seulement dix mille soldats alors le français fait ce qu'il peut il sait qu'il doit tenir\\n00:32:07.790 jusqu'à l'arrivée des renforts les combats font encore rage dans les villages alentour chaque parcelle de terrain mais ces départs joubert qu'au\\n00:32:14.090 prix d'un combat acharné mais il ne peut faire de miracles et devant le rouleau compresseur et demi ses troupes doivent\\n00:32:19.340 reculer retourner encore et se mettre à l'abri sur un plateau pour attendre la tombée de la nuit le soir venu\\n00:32:25.040 alvin s'y met au point sa stratégie il ne veut pas risquer un assaut frontal il pourrait y perdre beaucoup d'hommes or il a besoin de tous ses effectifs\\n00:32:31.730 pour affronter les autres divisions de bonaparte et délits vraiment ou alors ils décident du plan suivant une colonne\\n00:32:37.550 attaquera joubert sur ses arrières en la contournant par l'ouest et en parallèle une autre colonne fera la même chose\\n00:32:43.040 mais depuis il est en empruntant le défilé digne canal par lequel coule le fleuve adige tous ces mouvements auront\\n00:32:49.100 pour but de soutenir l'offensive du centre et ainsi compléter l'anéantissement purée total de la division joubert sauf que le général\\n00:32:55.429 français lui et renforcer le 14 janvier par l'arrivée de bonaparte à 2 heures du matin ce dernier confie à son homologue\\n00:33:01.850 pas folle et qu'il n'y a pas matière à s'inquiéter des renforts sont en route et il faut non seulement garder confiance\\n00:33:06.860 mais de plus il faut attaquer même 1 1 contre trois dans l'objectif de gagner du temps alors jouvert s'exécute le 14\\n00:33:13.940 janvier ils descendent du plateau et porte ses troupes sur saône marque sur san giovanni est sûre tremblé pendant\\n00:33:20.210 plusieurs heures et brave des deux camps s'affrontent et rivalisent d'ardeur mais là encore comme la veille la division\\n00:33:26.360 jouvert est impuissante car en sous-nombre et de plus les autrichiens ont fait placer leurs canons sur les collines et\\n00:33:31.960 bombarde la vallée sans discontinuer pire on informe l'état major français que les troupes de cazanove itx dans le\\n00:33:37.990 défilé dean canal et progresse à grande vitesse et se rapproche de rivoli la situation devient intenable c'est\\n00:33:44.650 alors que tout à coup la division masséna entre sur le champ de bataille c'est presque un miracle car elle est en avance sur toutes les prévisions\\n00:33:50.650 possible les pauvres hommes ont marché toute la nuit à marche forcée sans même se reposer sans même avoir dormi et leur\\n00:33:57.340 calvaire n'est pas fini car il faut aller au combat et il faut le faire vite et brigade de chou vert remonte alors\\n00:34:03.040 sur le plateau en position défensive tandis que les renforts de masséna se porte sur le flanc gauche et à ce moment\\n00:34:09.219 les français se retrouvent soudainement en supériorité numérique sur le plateau de rivoli en effet grâce au renfort napoléon peut\\n00:34:16.210 compter sur vingt mille hommes alors que les troupes d'alvin si elles sont divisées en 3 pire alors que joubert et\\n00:34:22.389 massena semble tenir le choc bonaparte concentre son attention sur kazan au beach ce dernier menace enfin\\n00:34:28.090 le plateau mais pour y accéder il doit passer par un passage étroit et difficile d'accès bonaparte fait alors\\n00:34:33.909 monté une batterie de canon et lui tirent dessus sans discontinuer un parages ne voulait ça va brutalement sur\\n00:34:39.040 les pauvres autrichien qui sont taillés en pièces par le français il tente bien de continuer mais devant une telle boucherie les hommes fuite en désordre à\\n00:34:46.570 ce moment là panique commence à s'installer dans le camp autrichien quelle erreur d'avoir divisé les troupes mais comment pouvait-on savoir que\\n00:34:52.750 masséna allait venir aussi rapidement bonaparte lui continue sur son élan il\\n00:34:57.790 déclenche une gigantesque charge de tous les chevaux disponibles droits sur le centre autrichien pour soutenir la\\n00:35:03.100 défense de joubert soldats d'admin si épuisés par deux jours de combats ininterrompus à gravir la pente du\\n00:35:08.920 plateau sans pouvoir réussir se débandent une fois de plus le résultat est sans appel la bataille est une victoire plus\\n00:35:15.460 immense encore que toutes celles là précédent car l'autriche perd non seulement tout espoir de secourir mantoue et de plus elle perd le tiers de\\n00:35:22.090 son armée en seulement deux jours alors qu'elle a commencé la bataille à trois contre un côté français on compte\\n00:35:28.030 environ 4000 pertes soit 20% des effectifs quoi qu'il en soit bonaparte est désormais sûr et certain de faire tomber\\n00:35:34.330 mantoue qui seront effectivement le 2 février 1797 et d'un seul coup\\n00:35:39.670 moins d'un an après sa prise de fonctions napoléon conquiert au nom de la république et trois quarts de\\n00:35:45.190 l'italie du nord à vienne l'empereur du saint-empire c'est que la question n'est plus comment délivrer l'italie mais\\n00:35:51.400 plutôt comment protéger l'autriche de l'invasion imminente des troupes de bonaparte\\n00:36:03.369 après sa double victoire à rivoli et à mantoue napoléon c'est que l'autriche n'aura pas les moyens humains ni\\n00:36:08.740 logistique de défendre la vénétie et la romagne toutes les villes d'italie du nord tombe entre les mains de l'armée\\n00:36:14.349 française la france fait saisir les coffres des états conquis des rébellions sont matés au fil de l'épée et des\\n00:36:19.960 républiques soeurs sont proclamés afin de diffuser partout les idées de la révolution à bienne c'est la panique\\n00:36:25.420 générale on mobilise tous les soldats disponibles pour défendre le territoire contre l'invasion française bonaparte ne se\\n00:36:31.720 fait pas attendre il attend les renforts depuis la france puis il continue sa marche dans les défilés du tyrol la marche française\\n00:36:37.359 devient vite insoutenable pour l'autriche qui en mars 1797 signent le traité de campo forme you pour\\n00:36:43.390 concrétiser la paix entre la france et le saint empire et mieux que de mettre fin à la campagne d'italie le traité met\\n00:36:49.299 également un terme à la première coalition et aux conflits entre l'europe et paris dans la capitale de l'hexagone\\n00:36:55.150 c'est l'extase on organise dimanche cérémonie dans les jardins de la ville bien évidemment le gouvernement veut\\n00:37:01.029 rencontrer ce napoléon pour le remercier mais aussi pour s'en méfier car une fois l'euphorie de la victoire passe et on ne\\n00:37:06.999 peut s'empêcher de remarquer la chose suivante dans une république en proie aux troubles aux divisions au complot et\\n00:37:12.999 aux soulèvements interne ce général c'est victorieux aux reptiles par le plus grand des hasards les ambitions politiques\\n00:37:18.700 aurait-il des idées sur la manière dont le gouvernement doit fonctionner ou sur la façon dont la révolution doit\\n00:37:24.130 s'organiser et si de telles idées travers son esprit pourrait-il usé de son influence auprès de l'armée pour\\n00:37:29.890 renverser le gouvernement de l'apartheid encore bien jeune mais son talent et sa popularité attise déjà les convoitises\\n00:37:36.130 car parmi tous ces partis et toutes ses factions politiques qui tentent de prendre le contrôle de la république chacun sait que s'il s'attache les\\n00:37:42.999 services de bonaparte il aura des chances de victoire bref napoléon devient rapidement et\\n00:37:48.009 malgré lui un danger pour le gouvernement et si tel est le cas alors comment faire pour l'éloigner de la capitale doit-on\\n00:37:54.489 l'envoyer en garnison loin de paris ou doit-on plutôt lui confier une mission impossible une mission suicidaire comme partir avec\\n00:38:00.970 une armée de l'autre côté de la méditerranée pour envahir une contrée lointaine quelle sera la suite de l'épopée de\\n00:38:06.730 ceux-ci jeune général qui a mis par terre en moins d'un an quatre armées autrichiennes coup sûr qu'au passé se\\n00:38:12.069 contenter des simples honneurs militaires ou va-t-il chercher à aller plus loin et à entrer en politique pour le\\n00:38:17.550 découvrir n'hésitez pas à laisser un commentaire en bas de la vidéo à vous abonner à bataille de france et rendez\\n00:38:22.650 vous au prochain épisode [Musique]\\n00:39:13.400 [Musique]\\n00:39:20.470 [Musique]\\n\""
      ]
     },
     "execution_count": 32,
     "metadata": {},
     "output_type": "execute_result"
    }
   ],
   "source": [
    "from pathlib import Path\n",
    "\n",
    "path = Path(\"/Users/nicolasfavrot/Personal/rag-based-solar-inverter/notebooks/data/bataille_de_france/raw/s2-ep1.txt\")\n",
    "raw = path.read_text(encoding=\"utf-8\", errors=\"ignore\")\n",
    "raw"
   ]
  },
  {
   "cell_type": "code",
   "execution_count": 30,
   "id": "cb7eee6c",
   "metadata": {},
   "outputs": [],
   "source": [
    "from huggingface_hub import login\n",
    "login(new_session=False)"
   ]
  },
  {
   "cell_type": "code",
   "execution_count": 33,
   "id": "791958c9",
   "metadata": {},
   "outputs": [],
   "source": [
    "from retriever_for_video_transcripts.cleaning import load_txt_folder_as_documents\n",
    "\n",
    "\n",
    "folder_path = \"/Users/nicolasfavrot/Personal/rag-based-solar-inverter/notebooks/data/bataille_de_france/raw/\"\n",
    "docs_before_split = load_txt_folder_as_documents(folder_path)"
   ]
  },
  {
   "cell_type": "code",
   "execution_count": 4,
   "id": "8d92fdbe",
   "metadata": {},
   "outputs": [
    {
     "data": {
      "text/plain": [
       "\"nous sommes le 27 mars 1796 à nice pendant la révolution française dans les rangs de l'armée républicaine le bruit court qu'un nouveau général est sur le point de prendre ses quartiers il se dit que ce général et jeunes qu'il est inexpérimenté mais il se dit aussi qu'il est plein de rêves et plein d'ambition mais pourra-t-il seulement redonné courage aux troupes pourra-t-il redonner confiance et fierté à ces soldats qui au premier jour du printemps 1796 sont démoralisés sous-équipés mal payés et en proie à la mutinerie comment pourra-t-il lui du haut de ses 26 ans mené une campagne militaire dans ces conditions et voilà que soudain le jeune homme prend la parole et s'adresse à l'armée soldats vous êtes nuls vous êtes mal nourris le gouvernement vous dois beaucoup il ne peut rien vous donner mes mois napoléon bonaparte je veux vous conduire dans les plaines les plus fertiles du monde et ses plaines ses plaines si fertile ce sont celles de l'italie un pays où les peuples et les villes ne connaissent pas selon le général la fin ou la pauvreté mais pourra-t-il seulement tenir parole bataille de france saison 2 l'épopée de napoléon bonaparte dans cette vidéo nous tenterons d'analyser les stratégies et les tactiques utilisées par l'armée française en italie afin de comprendre la façon dont nos conflits a contribué déjà à l'inévitable ascension de plus jeune général de la révolution un conflit qui fera de lui le champion de la république [Musique] [Musique] avant de commencer ce nouvel épisode il peut être utile de rappeler la situation géostratégique politique et économique dans laquelle se trouve alors la france à cette période depuis les événements qui ont suivi l'année 1789 le pays est en proie aux divisions les plus profondes la situation interne est catastrophique émeutes rébellions coups d'état et tout cela sous la pression d'une crise alimentaire sans précédent dans le royaume puis dans la république de plus la situation extérieure inquiète au plus haut point en 1793 les puissances européennes forment la première coalition et attaque la france sur tous les fronts partout à londres à rome ou à moscou on se dit que la révolution française est sur le point de périr et de façon surprenante ce ne sont pas les européens qui prennent le dessus sur leurs opposants l'armée française se métamorphose et met en place des tactiques nouvelle qui accompagnée d'une mobilisation sans précédent vont se révéler crucial dans les futurs succès des révolutionnaires l'une de ses nombreuses innovations est celle qui a le plus d'importance pour comprendre les succès de bonaparte en italie prend le nom de système divisionnaire c'est une façon de structurer et d'organiser les troupes en plusieurs divisions autonomes cette méthode s'oppose alors à la doctrine militaire de l'époque privilégiant une formation compacte et qui se déplacent en masse comme un rouleau compresseur sur le terrain le système classique européen a pour objectif principal d'assaillir et de s'emparer de forteresse l'armée pose le siège sur une ville puis passe à la suivante une fois la victoire acquise les mouvements sont donc lent très lent et très prudent car il faut transporter la nourriture l'artillerie et tous ses bagages logistique qui sont traînés à l'arrière des troupes côté français en revanche le modèle est complètement différent on répartit l'armée en plusieurs divisions on quadrille une large partie du terrain on cherche l'adversaire était qu'une division le trouve alors les autres convergent vers cette position afin d'engager le combat cette tactique requiert néanmoins une formidable vitesse de déplacement et une excellente coordination entre les généraux il faut donc de transporter ni vivres ni coffre d'argent ou très peu et se servir en pays conquis bref la guerre entre l'europe et la france révolutionnaire est donc une rencontre entre deux logiques militaire côté européen la guerre de siège planté prudente côté français la guerre de mouvement rapide agressive bien évidemment cette représentation est un modèle quelque peu simplifié et elle nous permet de comprendre dans quelle logique militaire s'inscrit alors napoléon en ce mois d'avril à 2796 lorsqu'il reçoit le commandement de l'armée d'italie il trouve là-bas soldats paré pour une campagne éclair tandis que ses opposants eux sont plus nombreux mais également plus lent il ne reste plus qu'aux jeunes général corse de seulement 26 ans de trouver la bonne formule pour percer le front italien chose que ses prédécesseurs après deux ans de campagne n'ont pas réussi à faire en avril 17 196 la situation sur le front italien n'est pas vraiment favorable à bonaparte sur la droite du dispositif coalisés on trouve les sardes avec 30000 hommes répartis à mondovi eacce bas sur la gauche on trouve le général beaulieu avec trente mille hommes supplémentaires basés à d'ego et à campoli giuly et pour assurer la coordination de ce grand ensemble un corps de liaison fort de dix mille hommes se fixe à monter noté quant aux français ils sont répartis de la façon suivante une première division à savonner une autre à l'eau à nos une troisième entre les deux une quatrième à orméa et pour finir une demi brigade aux aguets du dispositif qui se positionne en avant-garde près de voltron numériquement bonaparte est mal en point il ne dispose en effet que de 40 mille hommes alors que beaulieu lui en dispose de 70 mille presque 1 contre 2 aussi du côté coalisés la tentation est grande de procéder comme celui déclenché une offensive générale sur tous les fronts écrasez les français envahir la provence et basta les révolutionnaires n'auront plus qu'à rentrer dans le rang cependant si cette stratégie semble convaincre ans à première vue elle n'est pas si facile à réaliser sur le terrain en effet l'italie du nord est une région montagneuse une région vallonnée ce qui décourage les mouvements offensifs puisqu'il serait facile pour l'adversaire de se réfugier sur les hauteurs en cas d' attaque il faut pour manoeuvrer sur un tel terrain de la vitesse de l'endurance est une excellente coordination des troupes parfait pour bonaparte et son système divisionnaire mais un enfer pour beaulieu qui ne veut pas risquer un mouvement de masse qui pourrait vite tourner catastrophe ils préfèrent donc attendre attendre les renforts afin d'être sûr et certain d'écraser l'ennemi avec la plus grande des facilités mais en attendant il est absolument essentiel pour beaulieu de conserver une communication avec gêne c'est le seul port de la région en effet qui est capable d'accueillir la flotte anglaise et de plus sa destruction signifierait un désastre économique pour la région région ali de la maison d'autriche qu'il s'agit de protéger il ne tolère donc pas ce mouvement impromptue cette petite brigade aux avant postes qui semble faire un mouvement vers l'est force est de protéger gêne pour maintenir son alliance avec les italiens beaulieu redéploie alors son aile gauche pour couvrir la cité bonaparte de son côté est surpris il ne s'attendait pas du tout à une telle réaction soto que celle ci a deux conséquences la première c'est que pour défendre au gène beaulieu porte son aile gauche à une grande distance de son centre qui d'un coup se retrouvent vulnérable à une attaque la deuxième conséquence c'est que tout à coup bonaparte se retrouvent en supériorité numérique sur le centre il n'y a donc pas une seule seconde à perdre c'est l'occasion unique de couper le dispositif adverse en deux et aussitôt pensé aussitôt exécuté le général corse ordonne un mouvement sur les dix mille hommes du général argenteau réfugiés à monter noté convaincu que beaulieu a laissé son centre vulnérable à une attaque bonaparte déclenché l'offensive générale sur les troupes du général argenteau comme nous l'avions expliqué en introduction le système divisionnaire permet à un petit groupe situées aux avant-postes de se porter à la rencontre de l'ennemi afin de le fixer dans la tente de renforts ce jour là le 11 avril c'est le général rampont qui arrive avec sa brigade sur le champ de bataille il trouve alors la situation suivante environ 4000 soldats sous les ordres d'argent tout un monde d notés et 6000 sarda posté plus à l'ouest sous le commandement de vital le français qui n'a que mille soldats à sa disposition se garde bien d'attaquer de front il se positionne alors sur une colline bien à l'abri et attend que les autrichiens en gage de combats ces derniers ne se font pas prier et montent à l'assaut des hauteurs rampe on envoie alors un message à bonaparte il faut faire vite il a trouvé l'adversaire mais il a besoin de renfort urgemment la pole et on se met alors en mouvement mais ces troupes sont à une journée de marche de champ de bataille rampon n'a donc pas le choix et doit tenir ses positions à 1 contre trois avec des munitions limitées et des hommes épuisés le général fait ce qu'il peut il harangue il enflamme il électrise ces hommes qui tirent sans discontinuer depuis le flanc de la colline les autrichiens e s'obstine malgré leurs pertes lourdes et continuent d'attaquer mais rien n'y fait à la tombée de la nuit et combats doivent cesser et rend compte y a toujours sa position quel soulagement pour bonaparte qui arrive très tôt sur les lieux le lendemain soit le 12 avril avec des divisions de renforts il ordonne alors le plan suivant la harpe engagera les autrichiens de front tandis que masséna le contournera par le flanc gauche quant à ogero il devra manoeuvrer au devant des sardes pour les empêcher de venir au secours de leurs alliés des généraux s'exécute et comme si la chance était de leur côté argenteau au lieu de battre en retraite déclencher un nouvel assaut sur la colline il se dit que s'il s'empare de cette position il aura des chances de victoire mais c'est une erreur rampon et l'arp tiennent le choc il laisse le temps à masséna de déborder des autrichiens par la gauche s'en est rapidement fini de la bataille argenteau doit se replier et ce faisant les sardes font de même cette première victoire créer une brèche dans le dispositif coalisés il ne faut pas s'arrêter en si bon chemin la suite des opérations pour bonaparte consiste alors à empêcher des alliés en retraite de faire jonction augereau doit donc maintenir la pression sur les sardes tandis que le torse avec masséna et l'arbre poursuivre les autrichiens il s'en suit deux affrontements le premier le 14 et 15 avril à d'ego ou argenteau encore trop désorganisée père le tiers de ses hommes le second à chiba ou les italiens doivent reculer en catastrophe apprenant tous ces désastres vaut lui ordonne un redéploiement de ses troupes vers à couy et leur alba il laisse alors ses alliés piémontais seul face au danger et bonaparte en profite il demande à la division de serrurier basée à ormes et de remonter droit vers le nord tandis que lui il fonce avec toutes ses forces disponibles pour engager le général colis qui se réfugie à mondovi le général piémontais sans que la situation tourne à la catastrophe mais tout n'est pas perdu pour autant le terrain sur lequel ils se trouvent est fortement vallonné et facilite les positions défensives il ordonne alors au général du cha de maintenir une position sur san michele situé sur les hauteurs et en amont d'une rivière quant à lui il fortifie ses défenses au village de mondovi mais c'est inutile les français sont trop rapides et le 20 avril ils attaquent le village de saint michel sur tous les fronts serrurier arrive par le sud aux jo depuis l'est et massena lui depuis le nord coli doit rappeler ses troupes et pour éviter la catastrophe il tente de former une ligne de défense organisé comme ceux ci de l'artillerie positionner sur les hauteurs de mondovi est protégé par un cours d'eau qui doit couvrir l'infanterie disposés en ligne de bataille face aux français bonaparte en réaction ordonna serrurier d'attaquer les sardes sur la route de vico forte et pour ce faire il utilise un système tactique qu'on appelle alors la colonne d'attac ils disposent ses troupes de la façon suivante trois bataillons marchand en colonne droits sur l'ennemi avec à l'avant des unités d'infanterie légère des tirailleurs qui une fois apporté des italiens déclenché un feu nourri aussi longtemps que possible pour désorganiser les rangs adverses ce faisant il laisse le temps aux trois colonnes de former une ligne de combat alors qu'en face l'adversaire se remet à peine de l'engagement précédent cette stratégie combinée à la vitesse de déplacement des divisions françaises permet de rompre les lignes compactes du camp adverse serrurier perse donc le front italien avec au forte oli ne peut plus tenir il doit battre en retraite et le 26 avril au grand dam de beaulieu et des autrichiens il doit demander la paix le 28 avril lessard de signer un traité de paix qui garantit à bonaparte la libre circulation de ses troupes dans le piémont en moins d'un mois le corse des faits presque le quart des forces coalisées sur le front italien mais beaulieu ne s'est pas laissé surprendre du moins pas deux fois il s'est replié avec son armée derrière les rives du pô et prépare déjà une contre attaque il est d'un point de vue numérique toujours en supériorité il dispose en effet de 50 à 60 mille hommes valides tandis que bonaparte reste lui avec environ 35 à 40 mille soldats conscient qu'il doit surprendre l'adversaire pour le vaincre il décide de divulguer aux piémontais de façon délibérée les détails de son plan de campagne il leur fait savoir qu'il souhaite attaquer les autrichiens à valenza et ce faisant ils leur somme de tenir cette information secrète et de ne surtout pas la communiquer aux générale beaulieu et bien évidemment les italiens ne tiennent pas parole il s'empresse de tenir leurs alliés de la veille au courant des plans français et c'est ainsi peu prend forme le piège de bonaparte les autrichiens sont convaincus que leurs adversaires vont attaquer valenza il se fixe donc sur ce point de passage et napoléon lui a jamais eu l'intention de traverser le pot à cet endroit en réalité il s'élance tout droit vers l'est pour passer le fleuve à plaisance situé 80 km plus loin beaulieu se rend compte qu'il a été dupé les deux armées font alors la course mais les français avec leur système divisionnaire sont plus rapides à le 7 mai soit un peu plus d'une semaine après avoir quitté le piémont bonaparte franchi le pot du jour au lendemain c'est toute la lombardie qui s'ouvre à napoléon est là pour beaulieu s'est littéralement la catastrophe en effet l'ennemi se trouve non seulement sur ses arrières mais surtout ce dernier pourrait attaquer à tout moment ces lignes de ravitaillement et d'approvisionnement il faut donc immédiatement se replier plus à l'est détruire les ponts de la rivière ada et revenir avec des renforts napoléon dit lise alors son armée en deux une partie marche sur milan l'autre c'est lance corps et âme à la poursuite des autrichiens le corse veut absolument éviter la destruction des ponts s'il échoue il ne pourra plus continuer l'offensive mais beaulieu pour une fois pas trop vite il parvient à s'échapper avec toute son armée tout sauf son arrière-garde qui traîne péniblement derrière les français accélère alors le mouvement et rattrapent leurs opposants près de l'audi le 10 mai 1996 ce jour là peu n'a pas réussi alors l'exploit d'empêcher les autrichiens de brûler le pont qui dépend en fait de bois il avait placé ses canons sur des points stratégiques afin de pilonner la rive droite de la dda et créer ainsi une sorte de zone tampon la qualité des artistes français fait le reste le pont est sauvé et beaulieu en plus de perdre bêtement la lombardie en seulement deux semaines échoue à sécuriser une ligne de défense pour défendre le trentin et la vénétie bref en deux mois deux mois le jeune général corse de 26 ans qu'on tire la moitié de l'italie du nord et prépare déjà comme si plus rien ne pouvait l'arrêter une nouvelle offensive plus loin vers l'est nous sommes dans un camp d'entraînement français près de l'audi en 1796 dans son quartier général bonaparte regarde les flammes danser dans sa cheminée quel chemin parcouru depuis sa nomination en italie et tout est passé si vite tellement vite pourtant rien n'était gagné au départ son armée était dans un état catastrophique la révolution française avait ruiné l'économie du pays les coffres de l'état étaient vides et la famine menace et la république résultat ces hommes étaient mal nourris mal équipés certains étaient même plus payés depuis des mois beaucoup sont morts de maladie le typhus la dysenterie même napoléon n'avait pas l'air en bonne santé il toussait sans discontinuer il faut dire que à l'époque les généraux non plus n'était pas sûr de manger à leur faim ou de recevoir des soins on comprend dans ce contexte que les français n'avaient plus qu'une seule envie forcer le passage en italie plier ces contrées si riche et si fertile et s'offrir des festins en se servant dans les greniers des villages conquis et voilà que deux mois plus tard ce rêve devient réalité le front est complètement percer une campagne éclair signé napoléon bonaparte qui ne s'arrête jamais d'attaqué jamais d'harceler jamais d'engager quel succès mais quelle horreur aussi pour ces italiens qui voient d'un seul coup des français affamés sur rue et dans leurs maisons pour voler leur pain leurs bijoux leurs femmes les autrichiens peuvent-ils laisser la situation telle quelle bien sûr que nous viennent et la protectrice déclaré de l'italie elle n'a pas le droit de laisser ses alliés à ce triste sort elle envoie donc une nouvelle armée soixante mille hommes c'est deux fois plus que l'armée de bonaparte qui est réduite à 35 mille soldats car il faut placer des garnisons à milan et dans les villes récemment conquise sauf que vu ma soeur peut être pressé par la maison d'autriche prend un raccourci dans les montagnes du tyrol conséquence ils avancent plus vite certes mais il avance par un défilé et 3 dont le débouché est obstruée par le lac de garde et la distance entre le lac des montagnes est très courte une fine bande de terre une route étroite par laquelle ne serait transiter une armée de 60 mille hommes pire bonaparte pourrait très bien l'attendre à la sortie du défilé et le pylône et avec ses canons placés sur des hauteurs burmester ne peut pas prendre un tel risque il divise donc c'est trop bon de lui ne coupera le défilé par la droite l'autre par la gauche c'était sûrement la bonne chose à faire mais le général français fait preuve d'habileté il accepte d'être pris en tenaille il attend que la première armée autrichienne sortent du tyrol fonce droit sur elle et l'a détruit à lonato le 3 et 4 août 1996 wenger n'en croit pas ses yeux il s'éprend d'une colère mais il ne perd pas espoir pour autant car il reste environ 25000 homme a opposé au français qui en compte 35 milles il suffit de trouver une position défensive de se mettre en sécurité et d'attendre des renforts depuis l'autriche ainsi deux jours après le désastre de lonato les autrichiens se prépare donc à un nouvel assaut français à quelques kilomètres d'une pile qu'on appelle alors castiglioni nous sommes le 5 août 17 196 à castiglione et en italie du nord après la défaite des autrichiens à lonato ces derniers n'ont plus d'autre choix que de se réfugier sur une position défensive il se place alors sur des hauteurs entre mes deux relais et solférino si bien que l' avantage numérique de bonaparte qui dispose de 35 mille hommes contre 25,2 côté adverse pourrait bien ne pas suffire le général corps se met alors en place le plan suivant sainte et une attaque sur le centre termine d'être écrasés sous le feu ennemi battre en retraite puisse arrêter tenir le choc afin de donner le temps à serrurier en embuscade de monter à l'assaut de violence heures la clé de la victoire c'est donc l'exacte coordination des mouvements entre le gros des troupes françaises et la division serrures et le sort des donc jeté vers 5 heures du matin l'assaut commence sur le centre l'armée d'italie se ruent sur les flancs de la colline dont les défenseurs sont bien décidés à ne céder à aucune parcelle de terrain aux assaillants du jour leurs volets sont terribles pour les soldats de bonaparte qui tombent les uns après les autres la position de würm soeur sur un plateau augmente considérablement sa puissance de feu c'est un véritable carnage une boucherie et pour y mettre fin on se prépare côté français et conformément au plan de l'état major a entamé un mouvement de recul pour attirer les autrichiens dans le piège sauf qu'à cette heure du matin alors que le gros de l'armée n'a pas encore pu les voilà que serrurier sort de sa position et fonce droit sur l'ennemi mais il est beaucoup trop tôt c'est beaucoup trop prématuré du lanceur est encore sur le plateau il n'a pas bougé il est toujours bien installé sur les hauteurs serrurier s'est trompé le piège on ne peut pas fonctionner c'est un raté pour napoléon nos très chers redéploie alors ces troubles sont ses arrières et pour napoléon la bataille semble presque perdu tout petits le faire alors déclenché un assaut général au prix de la vie de milliers de soldats c'est impossible l'armée d'italie ne peut pas renouveler ses effectifs aussi facilement que l'autriche il faut trouver quelque chose et justement en observant les troupes de wenger se redéployer pour contenir serrurier bonaparte remarque que son opposant dégarnissent défense sur le monde et logano s'être ligne domine le champ de bataille et si les français s'en empare alors ils auront des chances de victoire s'est décidée il faut tenter le coup et on le tente en deux étapes d'abord un feu d'artillerie une tempête de boulettes d'obus et de tout ce qu'on peut trouver pour faire céder les défenses adverses ensuite un assaut frontal avec des milliers d'hommes pour gravir les pentes de la colline et pauvre défenseur sont non seulement taillés en pièces par les canons français mais également par les tirs de fusil des fantassins ennemis dépassé par le nombre ils doivent se replier vers neuf heures lui ne s'attendait pas à ça loin de là t bone appartient désormais la colline qui coupe son armée en deux les deux ailes autrichiens sont donc vulnérables et pour éviter le pire il sonne la retraite avant la tombée du jour les français peuvent crier victoire la capacité d'adaptation de leur général qui a transformé une bourde de serrurier en une opportunité de remporter le conflit s'est avérée décisive en moins de cinq mois le jeune général a battu deux armées autrichiennes coup sur coup il peut donc continuer sa route posez le siège sur la forteresse de monthoux et attendre patiemment qu'elle ne cède sous la pression à vienne en revanche la nouvelle provoque une panique générale comment une armée de 60000 sommes peut être mise en déroute par 35 mille soldats emmenés par un général de 26 ans et tout cela en moins d'un mois comment est ce même concevable il faut immédiatement envoyé le 3ème armée avec à sa tête la fine fleur des officiers il faut coûte que coûte à n'importe quel prix enrayer la marche de ce bonaparte ou c'est toute l'autriche toute l'autriche qui se retrouvera me lasser d'une invasion nous sommes de retour dans un camp d'entraînement français cette fois si près de mantoue à une cinquantaine de kilomètres à l'ouest de venise plus personne ici désormais le discute le talent du jeune général au contraire lui qui en arrivant ici quelques mois plus tôt et est regardée avec mépris pour son jeune âge il est acclamé par ses hommes adoré par ses pairs craint par ses adversaires sans le savoir bonaparte commence à écrire sa légende il ne se doute pas que quelques décennies plus tard henri beyle stendhal lui consacrera les premières pages de son roman la chartreuse de parme il écrira que lors de son entrée à milan en mai 17 196 napoléon enseigné à tout un peuple que césar et alexandre avait un successeur mais pourquoi tant d'admiration pour un si jeune général peut-être parce qu'il a réussi l'exploit de débloquer un front avec moitié moins d'hommes moitié moins d'équipements et moitié moins d'argent mais on l'admiré également car en plus d'être un avis le militaire s'est aussi est déjà un diplomate talentueux dans le mille ans décrit par stendhal les habitants n'aiment pas seulement le conquérant et les accueillent à bras ouverts la république française ces idées révolutionnaires de liberté d'égalité le romancier écrit ces mots napoléon bonaparte jointe aux lauriers de mars l'olivier de la civilisation à ses victoires éclatantes il associe la fin de l'ordre ancien et l'avènement d'un monde nouveau celui de la révolution certes stendhal ne mentionne pas ou pas assez que bonaparte reçoit également l'ordre de piller la région car la france a besoin d'argent elle est assiégée elle est en guerre lui faut vite trouver des liquidités cela est littérature a choisi de l'oublier mais à l'époque c'était une nécessité de premier ordre il fallait bien payer les soldats cependant comment on pouvait faire à bonaparte pour distribuer la solde le blocus maritime anglais l'invasion allemande les guerres de vendée avec tous ces déséquilibres la france n'avait ni or ni argent alors on se servait dans le pays conquis et les généraux laisser faire eux ils étaient davantage concernés par la suite de la campagne gras victoire était loin d'être acquise arrivé à l'automne à 1796 en effet l'autriche refuse toujours la défaite elle refuse d'abandonner l'italie alors elle contre attaque encore une fois un certain général alvin six marches avec quarante mille hommes pour libérer mantoue napoléon qui ne peut compter alors que sur vingt-cinq à trente mille soldats ordonne à serrurier de continuer le siège tandis que lui se porte à la rencontre des autrichiens mais voilà que les mauvaises nouvelles s'accumulent son avant-garde s'est fait bousculer et s'est réfugié près de vérone quant au siège de mantoue il est au plus mal car on raconte que les assiégés sont sur le point de briser l'encerclement fall apart se retrouve coincé et sa position est extrêmement périlleuse que faire alors battre en retraite abandonner la région rappeler toutes les garnisons d'italie pour constituer un front uni contre albi n'zi peut-être ou peut-être pas car si les français parviennent à contourner les autrichiens et a débarqué subitement par le sud-est il pourrait menacer les lignes d'approvisionnement du général al bundy voilà un plan audacieux un plan bonaparte est serait on tenté de dire parce qu'il est extrêmement dangereux alvin ci pourrait à tout moment faire reculer son aile gauche et recevoir des renforts depuis l'autriche mais la surprise pente bonaparte peut faire plier l'adversaire alors coup de poker ou coup de génie les analystes n'ont pas de vision unanimement mais ce qui est certain c'est que napoléon s'apprête sur les berges du fleuve adige à construire un peu plus sa légende en ce 15 novembre 1796 à l'aube d'une nouvelle bataille la bataille du pont d'arcole nous sommes le 15 novembre 1796 dans la province de mantoue près d'un village nommé arcolle ce jour-là napoléon et ses vingt mille hommes débarquent subitement sur la gauche du général albine si cette dernière tient un pont qui protège les lignes de ravitaillement de l'armée d'autriche s'il tombe alors les français pourraient contraindre leurs adversaires à une retraite anticipée mais pour réussir il faut prendre arcolle avant l'arrivée du gros des forces des autrichiennes il n'est donc pas une seule minute à perdre au jour où s'élance alors sur le pont car départ quelques unités et par quelques canons mais c'est un massacre les français tombent comme des mouches li trotsky qui garde le village fait cracher une pluie de feu de ballet de mitraille sur les assaillants certains officiers prennent leur courage à deux mains comme le général lane qui s'élance corps et âme vers l'autre rive malgré la marée de plomb qui s'abat sur lui même bonaparte ici mais personnellement et avec le même résultat les volets de mousquets autrichiens sont infranchissables les canons tirent à bout portant la fumée fait qu'on y voit plus rien les hommes ne peuvent plus il faut reculer reculé en désordre et soigner les centaines de blessés qui s'amoncellent sur les berges la traversée du pont est un véritable carnage et puis tous ces hommes ils sont tombés pour presque rien car la cavalerie trouve finalement un gain plus loin vers le nord et charge les défenseurs d'arcole afin de les sabres et au fil de l'épée et c'est trop tard car alvin si elle vend du piège de bonaparte ils débarquent sur les lieux dans l'après midi avec le gros de ses troupes sentant la catastrophe frappe et à ses portes les visas lors son armée en deux l'une pour défendre la rive droite de l'album l'autre pour dégager la rive gauche les français sont désormais en infériorité numérique ils ont perdu trop de temps au deuxième jour de la bataille ils doivent donc revoir leur plan et voici ce qu'il décide les autrichiens sont certes plus nombreux les environs d'arcole son marécageux parsemé de points d'eau ce qui facilite une attitude défensive masséna prendre position dans les marais tandis qu'au japon lui défend le pont d'arcole la deuxième journée les crânes échanges de feu d'affrontements à la baïonnette aucun camp ne parvient à prendre le dessus sauf que le temps lui joue contre les français en effet à tout moment le siège de mantoue pourrait rompre ce qui signifierait une armée de secours pourrait venir du sud afin d'épauler les autrichiens l'armée de bonaparte se retrouver encerclés pote absolument tenter quelque chose et le faire immédiatement aussi au troisième jour de la bataille napoléon décide que masséna côté marais devra feindre un mouvement de retrait vers le sud afin d'attirer les autrichiens dans une embuscade une fois à portée de fusil les tirailleurs en bus qui surgiront comme un seul homme depuis détail et anéantiront l'adversaire côté argol il faut tenter le tout pour le tout et avec les moyens du bord on construit alors un pont improvisé en pleine nuit un pont provisoire mais suffisant pour y faire passer une petite unité de cavalerie qui doit se porter à l'arrière des autrichiens et faire le maximum de bruit il faut persuader l'adversaire jeunes armés de secours aidant approche ce faisant bonaparte espère calvin si des gars dira le front d'arcole afin de pouvoir enfoncer sa position dans un nouvel assaut et au lever du jour l'audacieux plan du général et exécutés il fonctionne à merveille côté marais l'embuscade des tirailleurs on lève pas moins de 500 au mal d'une scie en moins d'une heure et de l'autre côté les cavaliers du pleurs opposants qui paniquent à l'idée de voir débarquer des renforts qui en réalité n'existe pas le général autrichien voyons la situation lui échappe et décide de se replier il perd près de 6000 hommes en trois jours contre 5000 côté français donc une victoire en demi-teinte pour napoléon même s'il reste maître du terrain et quoi qu'il en soit son opposant n'est pas détruit loin de là et l'autrichien va revenir il va revenir encore plus fort et lorsqu'il reviendra alors il se décidera de qui de l'autriche de la france sera la vraie maîtresse de l'italie du nord nous sommes à paris en janvier 1790 est près du siège du gouvernement au jardin du luxembourg entre les membres des institutions politiques on ne parle plus que d'un seul sujet peut d'un seul homme bonaparte jeune général 27 en corse triomphant celui qui contre toute attente à débloquer en à peine un an un fonds qui étaient bloqués depuis plusieurs années et de plus le gouvernement était loin de lui avoir fourni la fine fleur de ses soldats et de ses officiers la priorité de l'armée à l'époque c'était le front allemand on y avait place et 150 mille hommes contre 35 milles en italie et alors que la campagne du rhin s'empêtrait dans le statu quo voilà qu'en italie la situation se débloque miraculeusement au point que viennent désormais se retrouve dans une situation plus que délicate de quel côté des alpes doit-elle envoyer des renforts au sud au nord les deux alors bien évidemment à paris on en profite mais on considère toujours le front allemand comme la première des priorités le gouvernement on en voit donc que 7000 hommes supplémentaires à bonaparte c'est peu ce n'est pas assez mais à l'époque on ignore encore si c'est le talent ou la chance qui a permis au jeune général corse d'enfoncer des autrichiens par contre il est un homme qui est sûr et certain de pouvoir répondre à cette question pour alvin si général aussi craint que respecter la peau lyon n'a rien à gênés tout au contraire il est certes audacieux mais c'est un chanceux il a joué avec le feu en débarquant subitement derrière céline lors de la bataille du pont d'arcole lui du haut de ses 61 ans il déclare qu'il n'a pas perdu il s'est replié rien de plus pour revenir encore plus fort et désormais il sait comment battre bonaparte l'objectif principal de la maison d'autriche étant de soulager le siège de mantoue alvin ci va provoquer napoléon à son propre jeu il sait que cette imprudence général choisit toujours la tacc même lorsqu'il s'agit de se défendre alors il lui suffit avec ses quarante mille hommes de fixer les français sur un point donné suffisamment longtemps afin de permettre la garnison de mantoue forte de 24 mille hommes de se défaire du siège de serrurier puis d'attaquer bonaparte sur ses arrières de l'autre côté des lignes l'état-major de napoléon discutent de la stratégie à suivre et une question revient très vite dans les débats quelle sera la route choisie par alvin site pour délivrer mantoue quel chemin va-t-il prendre at-il débarqué depuis la vénétie ce serait le chemin le plus court ou va-t-il débarqué depuis le tyrol personne ne peut répondre à la question personne et c'est donc pour parer à toute éventualité que napoléon met en place un dispositif quelque peu singulier il répartit son armée en quatre divisions la première prend pied à rivoli la deuxième à vérone la troisième à l'hexagone tandis que la dernière elle reste avant tout lui même en se place au centre du dispositif que l'on nomme en sciences militaires quadrilatère stratégique il a pour objectif de contraindre l'adversaire à livrer bataille en un lieu très éloigné de l'endroit que l'on souhaite défendre ici le siège de mantoue si alvin s'ils débarquent par l'ouest alors les divisions de vont se ruer sur cette position pour venir aider leurs confrères s'ils débarquent par le sud même chose les forces françaises devront converger pour livrer bataille mais finalement le 12 janvier 1797 ce n'est ni à l'ouest ni au sud que les autrichiens porte l'offensive alvin six traversées les alpes et attaque joubert dans les environs de rivoli général français envoie alors un message à bonaparte il tiendra ses positions le plus longtemps possible jusqu'à l'arrivée des renforts mais ces derniers doivent se porter à son secours de toute urgence nous sommes le 12 janvier 10 797 en italie du nord près d'un village appelé rivoli conformément au plan du général bonaparte la division joubert doit faire face seule à toute une armée autrichienne dans la tente de renforts français qui se met en marche depuis vérone en ce premier jour de l'affrontement aline ci dispose d'environ 30000 hommes joubert lui peut compter sur seulement dix mille soldats alors le français fait ce qu'il peut il sait qu'il doit tenir jusqu'à l'arrivée des renforts les combats font encore rage dans les villages alentour chaque parcelle de terrain mais ces départs joubert qu'au prix d'un combat acharné mais il ne peut faire de miracles et devant le rouleau compresseur et demi ses troupes doivent reculer retourner encore et se mettre à l'abri sur un plateau pour attendre la tombée de la nuit le soir venu alvin s'y met au point sa stratégie il ne veut pas risquer un assaut frontal il pourrait y perdre beaucoup d'hommes or il a besoin de tous ses effectifs pour affronter les autres divisions de bonaparte et délits vraiment ou alors ils décident du plan suivant une colonne attaquera joubert sur ses arrières en la contournant par l'ouest et en parallèle une autre colonne fera la même chose mais depuis il est en empruntant le défilé digne canal par lequel coule le fleuve adige tous ces mouvements auront pour but de soutenir l'offensive du centre et ainsi compléter l'anéantissement purée total de la division joubert sauf que le général français lui et renforcer le 14 janvier par l'arrivée de bonaparte à 2 heures du matin ce dernier confie à son homologue pas folle et qu'il n'y a pas matière à s'inquiéter des renforts sont en route et il faut non seulement garder confiance mais de plus il faut attaquer même 1 1 contre trois dans l'objectif de gagner du temps alors jouvert s'exécute le 14 janvier ils descendent du plateau et porte ses troupes sur saône marque sur san giovanni est sûre tremblé pendant plusieurs heures et brave des deux camps s'affrontent et rivalisent d'ardeur mais là encore comme la veille la division jouvert est impuissante car en sous-nombre et de plus les autrichiens ont fait placer leurs canons sur les collines et bombarde la vallée sans discontinuer pire on informe l'état major français que les troupes de cazanove itx dans le défilé dean canal et progresse à grande vitesse et se rapproche de rivoli la situation devient intenable c'est alors que tout à coup la division masséna entre sur le champ de bataille c'est presque un miracle car elle est en avance sur toutes les prévisions possible les pauvres hommes ont marché toute la nuit à marche forcée sans même se reposer sans même avoir dormi et leur calvaire n'est pas fini car il faut aller au combat et il faut le faire vite et brigade de chou vert remonte alors sur le plateau en position défensive tandis que les renforts de masséna se porte sur le flanc gauche et à ce moment les français se retrouvent soudainement en supériorité numérique sur le plateau de rivoli en effet grâce au renfort napoléon peut compter sur vingt mille hommes alors que les troupes d'alvin si elles sont divisées en 3 pire alors que joubert et massena semble tenir le choc bonaparte concentre son attention sur kazan au beach ce dernier menace enfin le plateau mais pour y accéder il doit passer par un passage étroit et difficile d'accès bonaparte fait alors monté une batterie de canon et lui tirent dessus sans discontinuer un parages ne voulait ça va brutalement sur les pauvres autrichien qui sont taillés en pièces par le français il tente bien de continuer mais devant une telle boucherie les hommes fuite en désordre à ce moment là panique commence à s'installer dans le camp autrichien quelle erreur d'avoir divisé les troupes mais comment pouvait-on savoir que masséna allait venir aussi rapidement bonaparte lui continue sur son élan il déclenche une gigantesque charge de tous les chevaux disponibles droits sur le centre autrichien pour soutenir la défense de joubert soldats d'admin si épuisés par deux jours de combats ininterrompus à gravir la pente du plateau sans pouvoir réussir se débandent une fois de plus le résultat est sans appel la bataille est une victoire plus immense encore que toutes celles là précédent car l'autriche perd non seulement tout espoir de secourir mantoue et de plus elle perd le tiers de son armée en seulement deux jours alors qu'elle a commencé la bataille à trois contre un côté français on compte environ 4000 pertes soit 20% des effectifs quoi qu'il en soit bonaparte est désormais sûr et certain de faire tomber mantoue qui seront effectivement le 2 février 1797 et d'un seul coup moins d'un an après sa prise de fonctions napoléon conquiert au nom de la république et trois quarts de l'italie du nord à vienne l'empereur du saint-empire c'est que la question n'est plus comment délivrer l'italie mais plutôt comment protéger l'autriche de l'invasion imminente des troupes de bonaparte après sa double victoire à rivoli et à mantoue napoléon c'est que l'autriche n'aura pas les moyens humains ni logistique de défendre la vénétie et la romagne toutes les villes d'italie du nord tombe entre les mains de l'armée française la france fait saisir les coffres des états conquis des rébellions sont matés au fil de l'épée et des républiques soeurs sont proclamés afin de diffuser partout les idées de la révolution à bienne c'est la panique générale on mobilise tous les soldats disponibles pour défendre le territoire contre l'invasion française bonaparte ne se fait pas attendre il attend les renforts depuis la france puis il continue sa marche dans les défilés du tyrol la marche française devient vite insoutenable pour l'autriche qui en mars 1797 signent le traité de campo forme you pour concrétiser la paix entre la france et le saint empire et mieux que de mettre fin à la campagne d'italie le traité met également un terme à la première coalition et aux conflits entre l'europe et paris dans la capitale de l'hexagone c'est l'extase on organise dimanche cérémonie dans les jardins de la ville bien évidemment le gouvernement veut rencontrer ce napoléon pour le remercier mais aussi pour s'en méfier car une fois l'euphorie de la victoire passe et on ne peut s'empêcher de remarquer la chose suivante dans une république en proie aux troubles aux divisions au complot et aux soulèvements interne ce général c'est victorieux aux reptiles par le plus grand des hasards les ambitions politiques aurait-il des idées sur la manière dont le gouvernement doit fonctionner ou sur la façon dont la révolution doit s'organiser et si de telles idées travers son esprit pourrait-il usé de son influence auprès de l'armée pour renverser le gouvernement de l'apartheid encore bien jeune mais son talent et sa popularité attise déjà les convoitises car parmi tous ces partis et toutes ses factions politiques qui tentent de prendre le contrôle de la république chacun sait que s'il s'attache les services de bonaparte il aura des chances de victoire bref napoléon devient rapidement et malgré lui un danger pour le gouvernement et si tel est le cas alors comment faire pour l'éloigner de la capitale doit-on l'envoyer en garnison loin de paris ou doit-on plutôt lui confier une mission impossible une mission suicidaire comme partir avec une armée de l'autre côté de la méditerranée pour envahir une contrée lointaine quelle sera la suite de l'épopée de ceux-ci jeune général qui a mis par terre en moins d'un an quatre armées autrichiennes coup sûr qu'au passé se contenter des simples honneurs militaires ou va-t-il chercher à aller plus loin et à entrer en politique pour le découvrir n'hésitez pas à laisser un commentaire en bas de la vidéo à vous abonner à bataille de france et rendez vous au prochain épisode [Musique] [Musique] [Musique]\""
      ]
     },
     "execution_count": 4,
     "metadata": {},
     "output_type": "execute_result"
    }
   ],
   "source": [
    "docs_before_split[2].page_content"
   ]
  },
  {
   "cell_type": "code",
   "execution_count": 5,
   "id": "287555be",
   "metadata": {},
   "outputs": [
    {
     "data": {
      "text/plain": [
       "{'source': 'rome-ep1.txt',\n",
       " 'path': '/Users/nicolasfavrot/Personal/rag-based-solar-inverter/notebooks/data/bataille_de_france/raw/rome-ep1.txt',\n",
       " 'url': 'https://www.youtube.com/watch/mux2wH5fBF0'}"
      ]
     },
     "execution_count": 5,
     "metadata": {},
     "output_type": "execute_result"
    }
   ],
   "source": [
    "docs_before_split[0].metadata"
   ]
  },
  {
   "cell_type": "code",
   "execution_count": 6,
   "id": "ea467c8e",
   "metadata": {},
   "outputs": [
    {
     "data": {
      "text/plain": [
       "Document(metadata={'source': 's2-ep1.txt', 'path': '/Users/nicolasfavrot/Personal/rag-based-solar-inverter/notebooks/data/bataille_de_france/raw/s2-ep1.txt', 'url': 'https://www.youtube.com/watch/1GKzqxKwBK0'}, page_content=\"gras victoire était loin d'être acquise arrivé à l'automne à 1796 en effet l'autriche refuse toujours la défaite elle refuse d'abandonner l'italie alors elle contre attaque encore une fois un certain général alvin six marches avec quarante mille hommes pour libérer mantoue napoléon qui ne peut compter alors que sur vingt-cinq à trente mille soldats ordonne à serrurier de continuer le siège tandis que lui se porte à la rencontre des autrichiens mais voilà que les mauvaises nouvelles s'accumulent son avant-garde s'est fait bousculer et s'est réfugié près de vérone quant au siège de mantoue il est au plus mal car on raconte que les assiégés sont sur le point de briser l'encerclement fall apart\")"
      ]
     },
     "execution_count": 6,
     "metadata": {},
     "output_type": "execute_result"
    }
   ],
   "source": [
    "text_splitter = RecursiveCharacterTextSplitter(\n",
    "    chunk_size = 700,\n",
    "    chunk_overlap  = 50,\n",
    ")\n",
    "docs_after_split = text_splitter.split_documents(docs_before_split)\n",
    "\n",
    "docs_after_split[100]"
   ]
  },
  {
   "cell_type": "code",
   "execution_count": 7,
   "id": "56b6dc03",
   "metadata": {},
   "outputs": [
    {
     "name": "stdout",
     "output_type": "stream",
     "text": [
      "Before split, there were 22 documents loaded, with average characters equal to 27028.\n",
      "After split, there were 924 documents (chunks), with average characters equal to 688 (average chunk length).\n"
     ]
    }
   ],
   "source": [
    "avg_doc_length = lambda docs: sum([len(doc.page_content) for doc in docs])//len(docs)\n",
    "avg_char_before_split = avg_doc_length(docs_before_split)\n",
    "avg_char_after_split = avg_doc_length(docs_after_split)\n",
    "\n",
    "print(f'Before split, there were {len(docs_before_split)} documents loaded, with average characters equal to {avg_char_before_split}.')\n",
    "print(f'After split, there were {len(docs_after_split)} documents (chunks), with average characters equal to {avg_char_after_split} (average chunk length).')"
   ]
  },
  {
   "cell_type": "code",
   "execution_count": 8,
   "id": "d7a5ef6c",
   "metadata": {},
   "outputs": [
    {
     "name": "stderr",
     "output_type": "stream",
     "text": [
      "/var/folders/x_/sdjp80td4cs0wflptkyqhcs40000gn/T/ipykernel_5666/928891410.py:1: LangChainDeprecationWarning: The class `HuggingFaceBgeEmbeddings` was deprecated in LangChain 0.2.2 and will be removed in 1.0. An updated version of the class exists in the :class:`~langchain-huggingface package and should be used instead. To use it run `pip install -U :class:`~langchain-huggingface` and import as `from :class:`~langchain_huggingface import HuggingFaceEmbeddings``.\n",
      "  huggingface_embeddings = HuggingFaceBgeEmbeddings(\n"
     ]
    }
   ],
   "source": [
    "huggingface_embeddings = HuggingFaceBgeEmbeddings(\n",
    "    model_name=\"intfloat/multilingual-e5-large\",  # alternatively use \"sentence-transformers/all-MiniLM-l6-v2\" for a light and faster experience.\n",
    "    model_kwargs={'device':'cpu'},\n",
    "    encode_kwargs={'normalize_embeddings': True}\n",
    ")"
   ]
  },
  {
   "cell_type": "code",
   "execution_count": 9,
   "id": "e9a66c3e",
   "metadata": {},
   "outputs": [
    {
     "name": "stdout",
     "output_type": "stream",
     "text": [
      "Sample embedding of a document chunk:  [ 0.02045493  0.00424797 -0.03061799 ...  0.00255879 -0.00493124\n",
      " -0.01357661]\n",
      "Size of the embedding:  (1024,)\n"
     ]
    }
   ],
   "source": [
    "sample_embedding = np.array(huggingface_embeddings.embed_query(docs_after_split[0].page_content))\n",
    "print(\"Sample embedding of a document chunk: \", sample_embedding)\n",
    "print(\"Size of the embedding: \", sample_embedding.shape)"
   ]
  },
  {
   "cell_type": "code",
   "execution_count": 10,
   "id": "1240280f",
   "metadata": {},
   "outputs": [],
   "source": [
    "vectorstore = FAISS.from_documents(docs_after_split, huggingface_embeddings)"
   ]
  },
  {
   "cell_type": "code",
   "execution_count": 11,
   "id": "b98ecd80",
   "metadata": {},
   "outputs": [
    {
     "name": "stdout",
     "output_type": "stream",
     "text": [
      "There are 1 documents retrieved which are relevant to the query. Display the first one:\n",
      "\n",
      "du pays réunis toutes ses forces disponibles encore sous le choc d'une invasion qui s'est faite sans prévenir il attend bonaparte de pied ferme à quelques kilomètres seulement des pyramides [Musique] nous sommes le 21 juillet 1798 à proximité du caire en vue des pyramides d'or ce jour là sous la chaleur insupportable de l'état égyptien napoléon bonaparte et ses vingt mille hommes prennent connaissance du terrain et du dispositif adverse leur posant moore ap les attend avec une force comprise entre 20 et 35 milles hommes et qui sont répartis de la façon suivante sur la gauche une masse énorme de cavaliers mamelouks environ dix mille dix mille sommes bien entraînés bien équipé et prêts à\n"
     ]
    }
   ],
   "source": [
    "query = \"\"\"Combien de soldats étaient présent lors de la bataille des pyramides ?\"\"\"\n",
    "         \n",
    "relevant_documents = vectorstore.similarity_search(query, k=1) # Retrieve only 1 document\n",
    "print(f'There are {len(relevant_documents)} documents retrieved which are relevant to the query. Display the first one:\\n')\n",
    "print(relevant_documents[0].page_content)"
   ]
  },
  {
   "cell_type": "code",
   "execution_count": 12,
   "id": "76f0ba73",
   "metadata": {},
   "outputs": [
    {
     "data": {
      "text/plain": [
       "{'source': 's2-ep2.txt',\n",
       " 'path': '/Users/nicolasfavrot/Personal/rag-based-solar-inverter/notebooks/data/bataille_de_france/raw/s2-ep2.txt',\n",
       " 'url': 'https://www.youtube.com/watch/om1yW1eMFjM'}"
      ]
     },
     "execution_count": 12,
     "metadata": {},
     "output_type": "execute_result"
    }
   ],
   "source": [
    "relevant_documents[0].metadata"
   ]
  },
  {
   "cell_type": "markdown",
   "id": "a6baeffa",
   "metadata": {},
   "source": [
    "# From chunk to timestamp"
   ]
  },
  {
   "cell_type": "code",
   "execution_count": null,
   "id": "03f064c5",
   "metadata": {},
   "outputs": [
    {
     "name": "stdout",
     "output_type": "stream",
     "text": [
      "00:12:51.030\n"
     ]
    }
   ],
   "source": [
    "%load_ext autoreload\n",
    "%autoreload 2\n",
    "\n",
    "from retriever_for_video_transcripts.retrieve_timestamp import get_timestamp_for_chunk\n",
    "\n",
    "\n",
    "retrieved = relevant_documents[0].page_content\n",
    "retrieved = retrieved[:10] + \"aaaa\" + retrieved[14:]\n",
    "source = relevant_documents[0].metadata[\"source\"]\n",
    "\n",
    "with open(folder_path+source, \"r\", encoding=\"utf-8\") as f:\n",
    "    timed_doc = f.read()\n",
    "\n",
    "ts = get_timestamp_for_chunk(retrieved, timed_doc)\n",
    "print(ts)\n"
   ]
  },
  {
   "cell_type": "code",
   "execution_count": null,
   "id": "c2bdbd43",
   "metadata": {},
   "outputs": [
    {
     "name": "stdout",
     "output_type": "stream",
     "text": [
      "https://www.youtube.com/watch/om1yW1eMFjM?t=771\n"
     ]
    }
   ],
   "source": [
    "from retriever_for_video_transcripts.urls import make_timed_url\n",
    "\n",
    "\n",
    "url = relevant_documents[0].metadata[\"url\"]\n",
    "if ts is not None:\n",
    "    print(make_timed_url(url, ts))\n"
   ]
  },
  {
   "cell_type": "markdown",
   "id": "9e1e747a",
   "metadata": {},
   "source": [
    "# All together"
   ]
  },
  {
   "cell_type": "code",
   "execution_count": null,
   "id": "f14ec623",
   "metadata": {},
   "outputs": [
    {
     "name": "stdout",
     "output_type": "stream",
     "text": [
      "https://www.youtube.com/watch/om1yW1eMFjM?t=949\n"
     ]
    }
   ],
   "source": [
    "query = \"\"\"Qu'est ce que la strategie de la colonne d'attaque ?\"\"\"\n",
    "\n",
    "index_to_look = 0\n",
    "relevant_documents = vectorstore.similarity_search(query, k=1)\n",
    "retrieved = relevant_documents[index_to_look].page_content\n",
    "source = relevant_documents[index_to_look].metadata[\"source\"]\n",
    "\n",
    "with open(folder_path+source, \"r\", encoding=\"utf-8\") as f:\n",
    "    timed_doc = f.read()\n",
    "\n",
    "ts = get_timestamp_for_chunk(retrieved, timed_doc)\n",
    "\n",
    "url = relevant_documents[index_to_look].metadata[\"url\"]\n",
    "if ts is not None:\n",
    "    print(make_timed_url(url, ts))\n"
   ]
  },
  {
   "cell_type": "code",
   "execution_count": 16,
   "id": "eefbda68",
   "metadata": {},
   "outputs": [
    {
     "data": {
      "text/plain": [
       "{'source': 's2-ep2.txt',\n",
       " 'path': '/Users/nicolasfavrot/Personal/rag-based-solar-inverter/notebooks/data/bataille_de_france/raw/s2-ep2.txt',\n",
       " 'url': 'https://www.youtube.com/watch/om1yW1eMFjM'}"
      ]
     },
     "execution_count": 16,
     "metadata": {},
     "output_type": "execute_result"
    }
   ],
   "source": [
    "relevant_documents[index_to_look].metadata"
   ]
  },
  {
   "cell_type": "code",
   "execution_count": 17,
   "id": "5a051d84",
   "metadata": {},
   "outputs": [
    {
     "data": {
      "text/plain": [
       "\"un minime a désorganisé les rangs adverses mais quelle est cette stratégie est ce une feinte et soeurs piège où sont ils tous suicidaire bonaparte ne le sait pas il n'a pas le temps de deviner alors il fait armées tous ces canaux disponibles il ordonne que l'on tire sur ses seins prudent cavaliers les artilleurs technique il charge des poulets si rod enquêteurs vont pleuvoir une pluie de plomb et d'obus sur l'adversaire les pauvres mamelons se font dépasser littéralement par le français mais les braves continuent leur route qu'ils suivent les ordres de leur général il se rapproche toujours plus près de la division de seine lui non plus n'en croit pas ses yeux alors ils forment le carré\""
      ]
     },
     "execution_count": 17,
     "metadata": {},
     "output_type": "execute_result"
    }
   ],
   "source": [
    "retrieved"
   ]
  },
  {
   "cell_type": "code",
   "execution_count": 18,
   "id": "488b6c71",
   "metadata": {},
   "outputs": [],
   "source": [
    "query = \"\"\"Qu'est ce que la colonne d'attaque ?\"\"\"\n",
    "relevant_documents = vectorstore.similarity_search(query, k=3)"
   ]
  },
  {
   "cell_type": "code",
   "execution_count": 19,
   "id": "4400c231",
   "metadata": {},
   "outputs": [
    {
     "data": {
      "text/plain": [
       "'pas à vous abonner à notre chaîne à laisser un commentaire en bas de la vidéo et rendez vous au prochain épisode'"
      ]
     },
     "execution_count": 19,
     "metadata": {},
     "output_type": "execute_result"
    }
   ],
   "source": [
    "relevant_documents[1].page_content"
   ]
  },
  {
   "cell_type": "markdown",
   "id": "e7e4ee5c",
   "metadata": {},
   "source": [
    "# Create training questions"
   ]
  },
  {
   "cell_type": "code",
   "execution_count": 20,
   "id": "d39c7a79",
   "metadata": {},
   "outputs": [
    {
     "data": {
      "text/plain": [
       "{'source': 's2-ep1.txt',\n",
       " 'query': \"Comment s'appelle le général qui devait résister aux assauts autrichiens durant la bataille de Rivoli ?\",\n",
       " 'answer': '00:31:50.690'}"
      ]
     },
     "execution_count": 20,
     "metadata": {},
     "output_type": "execute_result"
    }
   ],
   "source": [
    "s1=\"s2-ep1.txt\"\n",
    "q1=\"Comment s'appelle le général qui devait résister aux assauts autrichiens durant la bataille de Rivoli ?\"\n",
    "r1=\"00:31:50.690\"\n",
    "\n",
    "s2=\"s2-ep1.txt\"\n",
    "q2=\"Quand a lieu la prise de Mantoue par Bonaparte ?\"\n",
    "r2=\"00:35:34.330\"\n",
    "\n",
    "s3=\"s2-ep1.txt\"\n",
    "q3=\"Combien de soldats sont détachés initialement pour la campagne d'Italie ?\"\n",
    "r3=\"00:28:45.760\"\n",
    "\n",
    "#ep2\n",
    "s4=\"s2-ep2.txt\"\n",
    "q4=\"Quels étaient les effectifs français lors de la bataille des pyramides ?\"\n",
    "r4=\"00:13:20.870\"\n",
    "\n",
    "s5=\"s2-ep2.txt\"\n",
    "q5=\"Où est-ce que Lucien Bonaparte veut transférer la chambre des 500 lors du coup d'État de Napoléon ?\"\n",
    "r5=\"00:31:06.330\"\n",
    "\n",
    "#ep3\n",
    "s6=\"s2-ep3.txt\"\n",
    "q6=\"Comment était divisé le paysage politique en France dans les années 1800 ?\"\n",
    "r6=\"00:03:56.010\"\n",
    "\n",
    "s7=\"s2-ep3.txt\"\n",
    "q7=\"Comment s'est déroulée la bataille de Marengo ?\"\n",
    "r7=\"00:15:13.900\"\n",
    "\n",
    "#ep4\n",
    "s8=\"s2-ep4.txt\"\n",
    "q8=\"Quand Napoléon a t'il été couronné empereur ?\"\n",
    "r8=\"00:00:01.890\"\n",
    "\n",
    "s9=\"s2-ep4.txt\"\n",
    "q9=\"Quel est le nom du maréchal français qui se battit à Günzburg ?\"\n",
    "r9=\"00:09:44.279\"\n",
    "\n",
    "#ep5\n",
    "s10=\"s2-ep5.txt\"\n",
    "q10=\"Quelle était la dette publique entre 1802 et 1814 ?\"\n",
    "r10=\"00:03:56.710\"\n",
    "\n",
    "\n",
    "vars_list = [\n",
    "    (s1, q1, r1),\n",
    "    (s2, q2, r2),\n",
    "    (s3, q3, r3),\n",
    "    (s4, q4, r4),\n",
    "    (s5, q5, r5),\n",
    "    (s6, q6, r6),\n",
    "    (s7, q7, r7),\n",
    "    (s8, q8, r8),\n",
    "    (s9, q9, r9),\n",
    "    (s10, q10, r10),\n",
    "]\n",
    "\n",
    "eval_dataset = []\n",
    "for s, q, r in vars_list:\n",
    "    eval_dataset.append({\"source\": s, \"query\": q, \"answer\": r})\n",
    "\n",
    "eval_dataset[0] "
   ]
  },
  {
   "cell_type": "code",
   "execution_count": null,
   "id": "ee34eb89",
   "metadata": {},
   "outputs": [
    {
     "data": {
      "text/plain": [
       "{'question': 'Quand a lieu la prise de Mantoue par Bonaparte ?',\n",
       " 'gt_source': 's2-ep1.txt',\n",
       " 'pred_source': 's2-ep1.txt',\n",
       " 'source_correct': True,\n",
       " 'gt_ts': '00:35:34.330',\n",
       " 'pred_ts': '00:35:03.100',\n",
       " 'ts_error_sec': 31,\n",
       " 'pred_url': 'https://www.youtube.com/watch/1GKzqxKwBK0?t=2103'}"
      ]
     },
     "execution_count": 23,
     "metadata": {},
     "output_type": "execute_result"
    }
   ],
   "source": [
    "from retriever_for_video_transcripts.evaluate import evaluate_query\n",
    "\n",
    "\n",
    "index_query = 1\n",
    "evaluate_query(\n",
    "    eval_dataset[index_query][\"query\"],\n",
    "    eval_dataset[index_query][\"source\"],\n",
    "    eval_dataset[index_query][\"answer\"],\n",
    "    vectorstore,\n",
    "    folder_path\n",
    ")"
   ]
  },
  {
   "cell_type": "code",
   "execution_count": 52,
   "id": "5a07f770",
   "metadata": {},
   "outputs": [
    {
     "name": "stdout",
     "output_type": "stream",
     "text": [
      "Comment s'appelle le général qui devait résister aux assauts autrichiens durant la bataille de Rivoli ? https://www.youtube.com/watch/B9yvF3y4mPc?t=629 False 1281\n",
      "Quand a lieu la prise de Mantoue par Bonaparte ? https://www.youtube.com/watch/1GKzqxKwBK0?t=2103 True 31\n",
      "Combien de soldats sont détachés initialement pour la campagne d'Italie ? https://www.youtube.com/watch/1GKzqxKwBK0?t=1725 True 0\n",
      "Quels étaient les effectifs français lors de la bataille des pyramides ? https://www.youtube.com/watch/om1yW1eMFjM?t=771 True 29\n",
      "Où est-ce que Lucien Bonaparte veut transférer la chambre des 500 lors du coup d'État de Napoléon ? https://www.youtube.com/watch/om1yW1eMFjM?t=2116 True 250\n",
      "Comment était divisé le paysage politique en France dans les années 1800 ? https://www.youtube.com/watch/B9yvF3y4mPc?t=191 True 45\n",
      "Comment s'est déroulée la bataille de Marengo ? https://www.youtube.com/watch/B9yvF3y4mPc?t=984 True 71\n",
      "Quand Napoléon a t'il été couronné empereur ? https://www.youtube.com/watch/O7sJrlOJJ3w?t=0 True 1\n",
      "Quel est le nom du maréchal français qui se battit à Günzburg ? https://www.youtube.com/watch/0XggNVUfiEM?t=1190 False 606\n",
      "Quelle était la dette publique entre 1802 et 1814 ? https://www.youtube.com/watch/NgFQBiGTJ3I?t=214 True 22\n"
     ]
    }
   ],
   "source": [
    "for query in eval_dataset:\n",
    "    answer = evaluate_query(\n",
    "        query[\"query\"],\n",
    "        query[\"source\"],\n",
    "        query[\"answer\"],\n",
    "        vectorstore,\n",
    "        folder_path\n",
    "    )\n",
    "    print(answer[\"question\"],answer[\"pred_url\"], answer[\"source_correct\"], answer[\"ts_error_sec\"], )"
   ]
  },
  {
   "cell_type": "code",
   "execution_count": 44,
   "id": "3bcb9ac9",
   "metadata": {},
   "outputs": [
    {
     "data": {
      "text/plain": [
       "{'question': 'Quelle était la dette publique entre 1802 et 1814 ?',\n",
       " 'gt_source': 's2-ep5.txt',\n",
       " 'pred_source': 's2-ep5.txt',\n",
       " 'source_correct': True,\n",
       " 'gt_ts': '00:03:56.710',\n",
       " 'pred_ts': '00:03:34.010',\n",
       " 'ts_error_sec': 22}"
      ]
     },
     "execution_count": 44,
     "metadata": {},
     "output_type": "execute_result"
    }
   ],
   "source": [
    "answer"
   ]
  },
  {
   "cell_type": "markdown",
   "id": "ec96f08f",
   "metadata": {},
   "source": [
    "# Data preprocessing with vocab:"
   ]
  },
  {
   "cell_type": "code",
   "execution_count": null,
   "id": "ea9afe9a",
   "metadata": {},
   "outputs": [],
   "source": [
    "# napoleon_cleaner.py\n",
    "from __future__ import annotations\n",
    "from dataclasses import dataclass\n",
    "from typing import Dict, List, Tuple, Optional, Iterable\n",
    "import json, re, unicodedata\n",
    "from rapidfuzz import process, fuzz\n",
    "\n",
    "try:\n",
    "    import spacy\n",
    "    _NLP = spacy.load(\"fr_core_news_md\")\n",
    "except Exception:\n",
    "    _NLP = None  # runs without spaCy\n",
    "\n",
    "# ---------- 0) Utils ----------\n",
    "def strip_accents(s: str) -> str:\n",
    "    return \"\".join(c for c in unicodedata.normalize(\"NFD\", s) if unicodedata.category(c) != \"Mn\")\n",
    "\n",
    "def normalize(s: str) -> str:\n",
    "    s = s.strip()\n",
    "    s = re.sub(r\"\\s+\", \" \", s)\n",
    "    return s\n",
    "\n",
    "def tokenize(text: str) -> List[str]:\n",
    "    return re.findall(r\"\\w+|[^\\w\\s]\", text, re.UNICODE)\n",
    "\n",
    "def ngrams(tokens: List[str], n: int) -> Iterable[Tuple[int, int, str]]:\n",
    "    for i in range(len(tokens)):\n",
    "        for k in range(1, n+1):\n",
    "            if i+k <= len(tokens):\n",
    "                yield i, i+k, \"\".join(tokens[i:i+k]) if k==1 else \" \".join(tokens[i:i+k])\n",
    "\n",
    "# Simple French-ish phonetic key (fallback). Good enough for many ASR slips.\n",
    "def phonetic_key(word: str) -> str:\n",
    "    w = strip_accents(word.lower())\n",
    "    w = re.sub(r\"ph\", \"f\", w)\n",
    "    w = re.sub(r\"[aeiouy]+\", \"a\", w)  # collapse vowels\n",
    "    w = re.sub(r\"[ckq]+\", \"k\", w)\n",
    "    w = re.sub(r\"gn\", \"n\", w)\n",
    "    w = re.sub(r\"ch\", \"sh\", w)\n",
    "    w = re.sub(r\"[^a-z]\", \"\", w)\n",
    "    return w\n",
    "\n",
    "# ---------- 1) Gazetteer model ----------\n",
    "@dataclass\n",
    "class GazetteerItem:\n",
    "    name: str\n",
    "    kind: str          # \"ville\" | \"bataille\" | \"personne\" | \"terme\"\n",
    "    variants: List[str]\n",
    "    region: Optional[str] = None  # e.g., \"Piémont\", \"Ligurie\", ...\n",
    "\n",
    "class GazetteerIndex:\n",
    "    def __init__(self, gz_json: Dict):\n",
    "        self.items: List[GazetteerItem] = []\n",
    "        # Villes\n",
    "        for v in gz_json.get(\"villes\", []):\n",
    "            self.items.append(GazetteerItem(v[\"nom\"], \"ville\", v.get(\"variantes\", [])))\n",
    "        # Batailles\n",
    "        for b in gz_json.get(\"batailles\", []):\n",
    "            self.items.append(GazetteerItem(b, \"bataille\", []))\n",
    "        # Personnalités\n",
    "        for p in gz_json.get(\"personnalites\", {}).get(\"francais\", []):\n",
    "            self.items.append(GazetteerItem(p, \"personne\", []))\n",
    "        for p in gz_json.get(\"personnalites\", {}).get(\"etrangers\", []):\n",
    "            self.items.append(GazetteerItem(p, \"personne\", []))\n",
    "        # Termes\n",
    "        for t in gz_json.get(\"unites_termes\", []):\n",
    "            self.items.append(GazetteerItem(t, \"terme\", []))\n",
    "\n",
    "        # flat dictionaries for lookups\n",
    "        self.surface_forms: List[str] = []\n",
    "        self.id_by_surface: Dict[str, int] = {}\n",
    "        self.kind_by_id: Dict[int, str] = {}\n",
    "        self.norm_by_surface: Dict[str, str] = {}\n",
    "        self.phon_by_surface: Dict[str, str] = {}\n",
    "\n",
    "        for idx, it in enumerate(self.items):\n",
    "            forms = [it.name] + it.variants\n",
    "            for f in forms:\n",
    "                sf = f\n",
    "                self.surface_forms.append(sf)\n",
    "                self.id_by_surface[sf] = idx\n",
    "                self.kind_by_id[idx] = it.kind\n",
    "                self.norm_by_surface[sf] = strip_accents(sf.lower())\n",
    "                self.phon_by_surface[sf] = phonetic_key(sf)\n",
    "\n",
    "        # prebuild lists per kind (for faster fuzzy searches)\n",
    "        self.forms_by_kind: Dict[str, List[str]] = {}\n",
    "        for sf in self.surface_forms:\n",
    "            k = self.kind_by_id[self.id_by_surface[sf]]\n",
    "            self.forms_by_kind.setdefault(k, []).append(sf)\n",
    "\n",
    "# ---------- 2) Candidate search ----------\n",
    "@dataclass\n",
    "class Candidate:\n",
    "    replacement: str   # surface from gazetteer\n",
    "    kind: str\n",
    "    score_edit: float\n",
    "    score_phon: float\n",
    "    score_ctx: float\n",
    "    score_cap: float\n",
    "    score_total: float\n",
    "\n",
    "CTX_PATTERNS = [\n",
    "    # (regex, expected kind, context bonus)\n",
    "    (re.compile(r\"\\b(bataille|combat|siège) d[eu]?\\s+$\", re.I), \"bataille\", 0.25),\n",
    "    (re.compile(r\"\\b(général|gén\\.)\\s+$\", re.I), \"personne\", 0.25),\n",
    "    (re.compile(r\"\\b(à|au|en|de|du|dans)\\s+$\", re.I), \"ville\", 0.25),\n",
    "]\n",
    "\n",
    "def context_expected_kind(left_context: str) -> Optional[str]:\n",
    "    for rx, kind, _ in CTX_PATTERNS:\n",
    "        if rx.search(left_context):\n",
    "            return kind\n",
    "    return None\n",
    "\n",
    "def build_left_context(tokens: List[str], start: int) -> str:\n",
    "    left = \" \".join(tokens[max(0, start-4):start])\n",
    "    return left + \" \"\n",
    "\n",
    "def fuzzy_candidates(seg: str, pool: List[str], topk: int = 8) -> List[Tuple[str, float]]:\n",
    "    # RapidFuzz: returns [(match, score, _), ...]\n",
    "    results = process.extract(seg, pool, scorer=fuzz.WRatio, limit=topk)\n",
    "    return [(m[0], m[1]/100.0) for m in results if m[1] >= 70]  # threshold 0.70\n",
    "\n",
    "def phonetic_candidates(seg: str, pool: List[str], phon_by_surface: Dict[str, str]) -> List[str]:\n",
    "    key = phonetic_key(seg)\n",
    "    return [p for p in pool if phon_by_surface[p] in key]\n",
    "\n",
    "def score_candidate(seg: str, repl: str, expected_kind: Optional[str], gz: GazetteerIndex, left_ctx: str) -> Candidate:\n",
    "    kind = gz.kind_by_id[gz.id_by_surface[repl]]\n",
    "    # Edit score via WRatio (already computed in fuzzy; recompute here quickly)\n",
    "    edit = fuzz.WRatio(seg, repl) / 100.0\n",
    "    # Phonetic\n",
    "    phon = 1.0 if phonetic_key(seg) == gz.phon_by_surface[repl] else 0.0\n",
    "    # Context\n",
    "    ctx_bonus = 0.0\n",
    "    if expected_kind and expected_kind == kind:\n",
    "        ctx_bonus += 0.25\n",
    "    else:\n",
    "        # lightweight context: prepositions favor cities\n",
    "        if re.search(r\"\\b(à|au|en|de|du|dans)\\b\\s*$\", left_ctx, re.I) and kind == \"ville\":\n",
    "            ctx_bonus += 0.2\n",
    "    # Casing/diacritics (reward fixing them)\n",
    "    cap = 1.0 if repl[:1].isupper() else 0.5\n",
    "\n",
    "    total = 0.45*edit + 0.25*phon + 0.25*ctx_bonus + 0.05*cap\n",
    "    return Candidate(replacement=repl, kind=kind, score_edit=edit, score_phon=phon, score_ctx=ctx_bonus, score_cap=cap, score_total=total)\n",
    "\n",
    "def find_suspects(tokens: List[str], text: str) -> List[Tuple[int, int, str]]:\n",
    "    suspects = []\n",
    "    # 1) NER if available\n",
    "    if _NLP is not None:\n",
    "        doc = _NLP(text)\n",
    "        for ent in doc.ents:\n",
    "            if ent.label_ in {\"LOC\", \"PER\"}:\n",
    "                suspects.append((ent.start_char, ent.end_char, ent.text))\n",
    "    # 2) Heuristics on tokens/n-grams (up to tri-grams)\n",
    "    for i, j, seg in ngrams(tokens, 2):\n",
    "        # suspect: lowercase after preposition; unknown blobs; glued tokens\n",
    "        if re.match(r\"^[a-zàâçéèêëîïôûùüÿñœ'-]+(?: [a-zàâçéèêëîïôûùüÿñœ'-]+)?$\", seg):\n",
    "            left = \" \".join(tokens[max(0, i-2):i])\n",
    "            if re.search(r\"\\b(à|au|en|de|du|dans|général|bataille|siège)\\b\", left, re.I):\n",
    "                suspects.append((i, j, seg))\n",
    "    # Deduplicate by span\n",
    "    uniq = {}\n",
    "    for s in suspects:\n",
    "        uniq[(s[0], s[1], s[2].lower())] = s\n",
    "    # Convert token spans to text spans when needed\n",
    "    final = []\n",
    "    for _, s in uniq.items():\n",
    "        final.append(s)\n",
    "    return final\n",
    "\n",
    "# ---------- 3) Main correction ----------\n",
    "def correct_text(text: str, gz_json: Dict, topn_per_span: int = 3,\n",
    "                 accept_threshold: float = 0.85, soft_threshold: float = 0.70) -> Dict:\n",
    "    gz = GazetteerIndex(gz_json)\n",
    "    text = normalize(text)\n",
    "    toks = tokenize(text)\n",
    "\n",
    "    # For reconstruction, keep a parallel list we can edit\n",
    "    out_tokens = toks[:]\n",
    "    decisions = []\n",
    "\n",
    "    # Work over token n-gram suspects\n",
    "    suspects = []\n",
    "    # Build mapping from token index → char offset (to get left-context)\n",
    "    char_pos = []\n",
    "    pos = 0\n",
    "    for t in toks:\n",
    "        char_pos.append(pos)\n",
    "        pos += len(t)\n",
    "        if not re.match(r\"\\s|[^\\w\\s]\", t):  # approx spacing; real spacing handled by join later\n",
    "            pos += 1\n",
    "\n",
    "    for i, j, seg in ngrams(toks, 2):\n",
    "        left_ctx = \" \".join(toks[max(0, i-4):i]) + \" \"\n",
    "        # choose expected kind from context\n",
    "        exp_kind = context_expected_kind(left_ctx)\n",
    "\n",
    "        # choose candidate pool based on expected kind (or all)\n",
    "        if exp_kind and exp_kind in gz.forms_by_kind:\n",
    "            pool = gz.forms_by_kind[exp_kind]\n",
    "        else:\n",
    "            pool = gz.surface_forms\n",
    "\n",
    "        fz = fuzzy_candidates(seg, pool, topk=8)\n",
    "        ph = phonetic_candidates(seg, pool, gz.phon_by_surface)\n",
    "\n",
    "        pool_names = set([m for m,_ in fz] + ph)\n",
    "\n",
    "        if not pool_names:\n",
    "            continue\n",
    "\n",
    "        scored = [score_candidate(seg, name, exp_kind, gz, left_ctx) for name in pool_names]\n",
    "        scored.sort(key=lambda c: c.score_total, reverse=True)\n",
    "        topk = scored[:topn_per_span]\n",
    "\n",
    "        # Decide replacement for that span if confident and if looks like a name\n",
    "        best = topk[0]\n",
    "        if best.score_total >= soft_threshold and re.search(r\"[A-Za-zÀ-ÿ]\", seg):\n",
    "            # Replace tokens i..j with candidate (single token if space inside, keep as multiple tokens)\n",
    "            repl_tokens = best.replacement.split(\" \")\n",
    "            out_tokens[i:j] = repl_tokens\n",
    "            decisions.append({\n",
    "                \"span_tokens\": (i, j),\n",
    "                \"original\": seg,\n",
    "                \"replacement\": best.replacement,\n",
    "                \"kind\": best.kind,\n",
    "                \"score\": round(best.score_total, 3),\n",
    "                \"status\": \"auto\" if best.score_total >= accept_threshold else \"low_conf\"\n",
    "            })\n",
    "\n",
    "    # Post: fix “à/au/en + Ville” capitalization if missed\n",
    "    for k in range(len(out_tokens)-1):\n",
    "        if re.match(r\"^(à|au|en|de|du|dans)$\", out_tokens[k], re.I) and re.match(r\"^[a-zà-ÿ-]+$\", out_tokens[k+1]):\n",
    "            # Try exact match in gazetteer with capitalized first letter\n",
    "            cap = out_tokens[k+1][:1].upper() + out_tokens[k+1][1:]\n",
    "            if cap in gz.id_by_surface:\n",
    "                out_tokens[k+1] = cap\n",
    "\n",
    "    # Rebuild string (simple join, then whitespace tidy)\n",
    "    out = \" \".join(out_tokens)\n",
    "    out = re.sub(r\"\\s+([,.!?;:])\", r\"\\1\", out)\n",
    "    out = re.sub(r\"\\s+'\", \"'\", out)\n",
    "    out = re.sub(r\"\\s+\", \" \", out).strip()\n",
    "\n",
    "    return {\"text_out\": out, \"decisions\": decisions}\n"
   ]
  },
  {
   "cell_type": "code",
   "execution_count": null,
   "id": "33d8b120",
   "metadata": {},
   "outputs": [],
   "source": [
    "import json\n",
    "\n",
    "GZ_PATH = \"/Users/nicolasfavrot/Personal/rag-based-solar-inverter/notebooks/data/bataille_de_france/gazetteer/ep1.json\"\n",
    "\n",
    "with open(GZ_PATH, \"r\", encoding=\"utf-8\") as f:\n",
    "    GZ = json.load(f)\n",
    "\n",
    "\n",
    "# 2) Run a correction\n",
    "inp = (\"la situation sur le front italien n'est pas vraiment favorable à bonaparte \"\n",
    "       \"sur la droite du dispositif coalisés on trouve les sardes avec 30000 hommes \"\n",
    "       \"répartis à mondovi eacce bas\")\n",
    "\n",
    "res = correct_text(inp, GZ)\n",
    "print(res[\"text_out\"])\n",
    "for d in res[\"decisions\"]:\n",
    "    print(d)"
   ]
  },
  {
   "cell_type": "code",
   "execution_count": null,
   "id": "bedaabe9",
   "metadata": {},
   "outputs": [],
   "source": []
  }
 ],
 "metadata": {
  "kernelspec": {
   "display_name": "rag-based-solar-inverter-py3.10",
   "language": "python",
   "name": "python3"
  },
  "language_info": {
   "codemirror_mode": {
    "name": "ipython",
    "version": 3
   },
   "file_extension": ".py",
   "mimetype": "text/x-python",
   "name": "python",
   "nbconvert_exporter": "python",
   "pygments_lexer": "ipython3",
   "version": "3.10.17"
  }
 },
 "nbformat": 4,
 "nbformat_minor": 5
}
